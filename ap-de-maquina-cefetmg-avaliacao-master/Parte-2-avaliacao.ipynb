{
 "cells": [
  {
   "cell_type": "markdown",
   "metadata": {},
   "source": [
    "## Antes de começar..."
   ]
  },
  {
   "cell_type": "markdown",
   "metadata": {},
   "source": [
    "Lembre-se, que em python, podemos passar inclusive classes por parametros:"
   ]
  },
  {
   "cell_type": "code",
   "execution_count": 1,
   "metadata": {},
   "outputs": [
    {
     "name": "stdout",
     "output_type": "stream",
     "text": [
      "Numero: 99\n",
      "Numero: 101\n"
     ]
    }
   ],
   "source": [
    "class Xuxu:\n",
    "    def __init__(self, num):\n",
    "        self.num = num-1\n",
    "class Xaxa:\n",
    "    def __init__(self, num):\n",
    "        self.num = num+1\n",
    "\n",
    "def kaka(ClasseXuxuOuXaxa):\n",
    "    obj = ClasseXuxuOuXaxa(100)\n",
    "    print(f\"Numero: {obj.num}\")\n",
    "\n",
    "kaka(Xuxu)\n",
    "kaka(Xaxa)"
   ]
  },
  {
   "cell_type": "markdown",
   "metadata": {},
   "source": [
    "## Avaliação e Otimização de Parametros"
   ]
  },
  {
   "cell_type": "markdown",
   "metadata": {},
   "source": [
    "Cada método possui alguns parametros a serem ajustados. Alguns parametros são essenciais para, por exemplo, diminuir o _overfitting_ e conseguirmos um modelo que faça predições com menos erros possíveis. Assim, dado os parametros $(p_1, p_2, p_3)$ nosso objetivo é encontrar uma solução ótima, ou seja, valores de $p_1$, $p_2$ e $p_3$ que maximiza o resultado (por meio de Macro F1 ou acurácia, por exemplo).\n",
    "\n",
    "Por exemplo, a implementação de árvore de decisão do Scikitlearn, temos o parametro `min_samples` que define o mínimo de exemplos necessários para que um nodo da árvore efetue a divisão. Como é inviável testarmos todos os paramtros podemos variá-lo, por exemplo, de 0.1 em 0.1 passos entre 0.1 e 0.9 para tentarmos encontrar a solução ótima. \n",
    "\n",
    "O algoritmo RandomForest possui mais parametros além do `min_samples_split` (que é o equivalente ao min_samples da árvore de decisão), por exemplo, a porcentagem de atributos (features) que será considerada para a divisão  de uma determinada árvore (`max_features`). Como esses dois parametros afetam muito o resultado, nosso *objetivo* é encontrar o valor `min_samples_split` e `max_features` que *maximizam* o resultado. Similarmente a uma arvore de decisão, como o treinamento de um método de aprendizado de máquina é custoso, avaliar muitos parametros pode ser inviável, por isso, poderiamos variar cada parametro da seguinte forma: \n",
    "\n",
    "- min_samples_split: {0.1, 0,2, ...,0.9}\n",
    "- max_features: {0.1, 0,2, ...,0.9}\n",
    "\n",
    "Com essa quantidade de parametro podemos fazer um [GridSearch]() nele, testamos todas as combinações ou seja, para cada `min_sample_split`, você testará todos os valores `max_features` (${0.1, 0,2, ...,0.9}$). Porém, mesmo assim, o GridSearch pode ficar inviável se quiséssemos colocar mais parametros. Por  exemplo, um outro parametro importante neste método é o número de árvores que o algoritmo irá utilizar (`n_estimators`) que poderiamos variar da seguinte forma:\n",
    "\n",
    "- n_estimators: {1, 20, 40, 60, 80, 100}\n",
    "\n",
    "Porém, mesmo com apenas 5 valores, a quantidade de combinações que precisariamos testar seria 5 vezes mais.  Além disso, não conseguimos explorar bem o espaço de busca. Por exemplo, vamos supor que a solução ótima seria com 30 árvores, max_features=0.15 e min_samples_split=0.35, ou seja, esta seria a solução que maximizaria o resultado. Usando a variação acima, não conseguiriamos encontrá-la. \n",
    "\n",
    "Uma das formas de conseguir explorar melhor o espaço quando temos muitas dimensões é, ao invés de fazer um GridSearch, fazermos um RandomSearch. Nele, é sorteado aleatoriamente valores para cada um dos parametros. Por exemplo:"
   ]
  },
  {
   "cell_type": "code",
   "execution_count": 2,
   "metadata": {},
   "outputs": [
    {
     "name": "stdout",
     "output_type": "stream",
     "text": [
      "Possíveis soluções a serem testadas:\n",
      "(0.207491395289921,0.7779469895497861,783)\n",
      "(0.15048545751016748,0.19433496293684885,780)\n",
      "(0.4595928518309905,0.6212743781782104,808)\n",
      "(0.26796384509718174,0.4902853252193181,915)\n",
      "(0.7686120831358958,0.4462136543240427,781)\n",
      "(0.7137261033183696,0.6566662934147548,273)\n",
      "(0.6772320258726261,0.2830097770163621,968)\n",
      "(0.1817817264880386,0.35394370574110734,23)\n",
      "(0.12035668879476864,0.5331299782347972,962)\n",
      "(0.8049870871377244,0.6491870833432638,993)\n"
     ]
    }
   ],
   "source": [
    "import random\n",
    "n_combinacoes = 10\n",
    "random.seed(1)\n",
    "print(\"Possíveis soluções a serem testadas:\")\n",
    "for i in range(n_combinacoes):\n",
    "    min_samples_split = random.uniform(0.1,0.9)\n",
    "    max_features = random.uniform(0.1,0.9)\n",
    "    n_estimators = random.randint(1,1000)\n",
    "    print(f\"({min_samples_split},{max_features},{n_estimators})\")"
   ]
  },
  {
   "cell_type": "markdown",
   "metadata": {},
   "source": [
    "Podemos ainda melhorar essa busca ao usar o algoritmo Tree-Structured Parzen Estimator (TPE). De forma similar ao RandomSearch, esse algoritmo também sorteia aleoriamente valores. Porém, os valores não são totalmente aleatórios. Inicialmente, gera-se $c$ combinações totalmente aleatórias e, logo após, será gerado outras opções também aleatórias porém com uma probabilidade maior de ser sorteado soluções:\n",
    "\n",
    "- próxima a locais com bons resultados \n",
    "- próxima a regiões que ainda não foram exploradas\n",
    "\n",
    "[Veja um video explicativo aqui](https://www.youtube.com/watch?v=cWyuUpZfZl0&list=PLwIaU1DGYV6tUx10fCTw5aPnqypbbK_GJ&index=32) - ele demonstra o uso em parametros de redes neurais profundas, porém, a ideia é a mesma. Ao ver o video, é interessante notar que em redes neurais profundas, chamamos tais parametros de hiperparametros. [Veja também um texto sobre ajustes de parametros (em inglês)](https://medium.com/criteo-labs/hyper-parameter-optimization-algorithms-2fe447525903).\n",
    "\n",
    "Nem sempre o TPE é melhor que o Grid Search. Depende muito do problema, da quantidade e sensibilidade dos parametros e do método de aprendizado de máquina. A única forma de descobrir qual é o melhor é avaliando ambos também ;)."
   ]
  },
  {
   "cell_type": "markdown",
   "metadata": {},
   "source": [
    "### Optuna e otimização de parametros"
   ]
  },
  {
   "cell_type": "markdown",
   "metadata": {},
   "source": [
    "O Optuna é uma biblioteca que facilita a otimização de parametros. Para simplificar, considere a função $f(x) = -2x^2 + x + 4$ em que desejamos maximizar $f(x)$ e, neste caso, nosso parametro é o $x$. Assim, em outras palavras, temos que achar qual valor de $x$ obtém o maior resultado possível dessa função. Veja a representação grafica dessa função com a solução ótima encontrada:\n"
   ]
  },
  {
   "cell_type": "code",
   "execution_count": 4,
   "metadata": {},
   "outputs": [
    {
     "data": {
      "image/png": "[encoded data removed]",
      "text/plain": [
       "<Figure size 432x288 with 1 Axes>"
      ]
     },
     "metadata": {
      "needs_background": "light"
     },
     "output_type": "display_data"
    }
   ],
   "source": [
    "import matplotlib.pyplot as plt\n",
    "import numpy as np\n",
    "\n",
    "def desenha_funcao(limit_inf=-10,limit_sup=10):\n",
    "    # create 1000 equally spaced points between -10 and 10\n",
    "    x = np.linspace(limit_inf, limit_sup, 100)\n",
    "\n",
    "    # calculate the y value for each element of the x vector\n",
    "    y = -2* x**2 + x + 4\n",
    "\n",
    "    plt.plot(x, y)\n",
    "    plt.scatter(0.25,4.125,marker=\"o\")\n",
    "desenha_funcao()"
   ]
  },
  {
   "cell_type": "markdown",
   "metadata": {},
   "source": [
    "O optuna testará, com uma determinada estratégia, vários valores de $x$ com  o objetivo de encontrar esse ponto ótimo. \n",
    "\n",
    "Para isso, você deve criar uma **função objetivo** ou seja, uma função python que calcula o função $f(x)$ por meio de um $x$ escolhido com uma determinada estratégia (aleatório, por exemplo) para a tentativa especifica (definida pelo objeto [trial](https://optuna.readthedocs.io/en/latest/reference/trial.html))."
   ]
  },
  {
   "cell_type": "code",
   "execution_count": 9,
   "metadata": {},
   "outputs": [],
   "source": [
    "import optuna\n",
    "def funcao_objetivo(trial: optuna.Trial):\n",
    "    #trial: é a tentativa atual\n",
    "    #sugggest uniform: função que sugere-se uma escolha de x aleatorio \n",
    "    #de forma uniforme (ou seja, todos os valores tem a mesma chance de ser escolhidos)\n",
    "    #pq é uma sugestão: Dependendo da estrategia de busca, esse parametro pode nao ser uniformemente escolhido\n",
    "    x = trial.suggest_float('x', -10, 10)\n",
    "    return -2* x**2 + x + 4"
   ]
  },
  {
   "cell_type": "markdown",
   "metadata": {},
   "source": [
    "Assim, pode-se instanciar um estudo  de parametros (objeto da classe [Study](https://optuna.readthedocs.io/en/latest/reference/study.html)) que efetua uma busca aleatória do parametro $x$, passando a função objetivo como parametro: "
   ]
  },
  {
   "cell_type": "code",
   "execution_count": 10,
   "metadata": {},
   "outputs": [
    {
     "name": "stderr",
     "output_type": "stream",
     "text": [
      "[I 2023-09-05 19:35:25,732] A new study created in memory with name: no-name-c06aee93-4614-4144-9815-ba05699b33a2\n",
      "[I 2023-09-05 19:35:25,737] Trial 0 finished with value: -3.1678380688122374 and parameters: {'x': -1.6595599059485195}. Best is trial 0 with value: -3.1678380688122374.\n",
      "[I 2023-09-05 19:35:25,741] Trial 1 finished with value: -30.427816059591684 and parameters: {'x': 4.4064898688431615}. Best is trial 0 with value: -3.1678380688122374.\n",
      "[I 2023-09-05 19:35:25,744] Trial 2 finished with value: -205.90622311505624 and parameters: {'x': -9.997712503653101}. Best is trial 0 with value: -3.1678380688122374.\n",
      "[I 2023-09-05 19:35:25,746] Trial 3 finished with value: -31.211278021240723 and parameters: {'x': -3.9533485473632046}. Best is trial 0 with value: -3.1678380688122374.\n",
      "[I 2023-09-05 19:35:25,748] Trial 4 finished with value: -102.89000272158682 and parameters: {'x': -7.064882183657739}. Best is trial 0 with value: -3.1678380688122374.\n",
      "[I 2023-09-05 19:35:25,751] Trial 5 finished with value: -137.10348515668684 and parameters: {'x': -8.153228104624045}. Best is trial 0 with value: -3.1678380688122374.\n",
      "[I 2023-09-05 19:35:25,753] Trial 6 finished with value: -81.02091974427358 and parameters: {'x': -6.274795772446582}. Best is trial 0 with value: -3.1678380688122374.\n",
      "[I 2023-09-05 19:35:25,755] Trial 7 finished with value: -18.169976684316644 and parameters: {'x': -3.0887854591390447}. Best is trial 0 with value: -3.1678380688122374.\n",
      "[I 2023-09-05 19:35:25,757] Trial 8 finished with value: -6.590214016758917 and parameters: {'x': -2.0646505153866013}. Best is trial 0 with value: -3.1678380688122374.\n",
      "[I 2023-09-05 19:35:25,759] Trial 9 finished with value: 3.5709436091172453 and parameters: {'x': 0.7763346800671389}. Best is trial 9 with value: 3.5709436091172453.\n",
      "[I 2023-09-05 19:35:25,760] Trial 10 finished with value: -2.8397309139495714 and parameters: {'x': -1.6161097119341044}. Best is trial 9 with value: 3.5709436091172453.\n",
      "[I 2023-09-05 19:35:25,761] Trial 11 finished with value: -19.74062065384497 and parameters: {'x': 3.7043900079351904}. Best is trial 9 with value: 3.5709436091172453.\n",
      "[I 2023-09-05 19:35:25,762] Trial 12 finished with value: -71.7897331563787 and parameters: {'x': -5.910955005369651}. Best is trial 9 with value: 3.5709436091172453.\n",
      "[I 2023-09-05 19:35:25,763] Trial 13 finished with value: -102.81588783446958 and parameters: {'x': 7.562348727818907}. Best is trial 9 with value: 3.5709436091172453.\n",
      "[I 2023-09-05 19:35:25,764] Trial 14 finished with value: -184.14223778664058 and parameters: {'x': -9.452248136041476}. Best is trial 9 with value: 3.5709436091172453.\n",
      "[I 2023-09-05 19:35:25,764] Trial 15 finished with value: -15.837987417570886 and parameters: {'x': 3.409350203568044}. Best is trial 9 with value: 3.5709436091172453.\n",
      "[I 2023-09-05 19:35:25,765] Trial 16 finished with value: -3.124700521889401 and parameters: {'x': -1.6539039526574602}. Best is trial 9 with value: 3.5709436091172453.\n",
      "[I 2023-09-05 19:35:25,766] Trial 17 finished with value: 2.418199798521623 and parameters: {'x': 1.1737965689150336}. Best is trial 9 with value: 3.5709436091172453.\n",
      "[I 2023-09-05 19:35:25,767] Trial 18 finished with value: -106.64950437442184 and parameters: {'x': -7.192261228095324}. Best is trial 9 with value: 3.5709436091172453.\n",
      "[I 2023-09-05 19:35:25,767] Trial 19 finished with value: -74.95213893251648 and parameters: {'x': -6.037970218302425}. Best is trial 9 with value: 3.5709436091172453.\n",
      "[I 2023-09-05 19:35:25,768] Trial 20 finished with value: -62.34294509675691 and parameters: {'x': 6.014891373510732}. Best is trial 9 with value: 3.5709436091172453.\n",
      "[I 2023-09-05 19:35:25,769] Trial 21 finished with value: -162.0498911217825 and parameters: {'x': 9.36523151438795}. Best is trial 9 with value: 3.5709436091172453.\n",
      "[I 2023-09-05 19:35:25,769] Trial 22 finished with value: -27.579946273258308 and parameters: {'x': -3.7315164368151432}. Best is trial 9 with value: 3.5709436091172453.\n",
      "[I 2023-09-05 19:35:25,770] Trial 23 finished with value: -21.74393848492307 and parameters: {'x': 3.8464523133862816}. Best is trial 9 with value: 3.5709436091172453.\n",
      "[I 2023-09-05 19:35:25,771] Trial 24 finished with value: -101.80725212698351 and parameters: {'x': 7.527783045920767}. Best is trial 9 with value: 3.5709436091172453.\n",
      "[I 2023-09-05 19:35:25,772] Trial 25 finished with value: -112.67940183523393 and parameters: {'x': 7.892133270076947}. Best is trial 9 with value: 3.5709436091172453.\n",
      "[I 2023-09-05 19:35:25,772] Trial 26 finished with value: -142.04976098678807 and parameters: {'x': -8.299115772604441}. Best is trial 9 with value: 3.5709436091172453.\n",
      "[I 2023-09-05 19:35:25,773] Trial 27 finished with value: -175.19529862373042 and parameters: {'x': -9.218904335342353}. Best is trial 9 with value: 3.5709436091172453.\n",
      "[I 2023-09-05 19:35:25,775] Trial 28 finished with value: -89.8129530846355 and parameters: {'x': -6.6033916087086215}. Best is trial 9 with value: 3.5709436091172453.\n",
      "[I 2023-09-05 19:35:25,775] Trial 29 finished with value: -102.83055225130268 and parameters: {'x': 7.562850068588261}. Best is trial 9 with value: 3.5709436091172453.\n"
     ]
    }
   ],
   "source": [
    "from optuna.samplers import RandomSampler\n",
    "#nossa funcao sera de maximizacao (por isso direction=maximize)\n",
    "#o sampler que define a estratégia de busca. \n",
    "#Neste caso, será feita uma busca totalmente aleatória\n",
    "study_random = optuna.create_study(sampler=RandomSampler(seed=1), direction=\"maximize\")\n",
    "#colocamos 30 tentativas\n",
    "study_random.optimize(funcao_objetivo, n_trials=30)"
   ]
  },
  {
   "cell_type": "markdown",
   "metadata": {},
   "source": [
    "Veja os pontos analisados e a melhor solução encontrada usando esse método além da comparação com o valor ótimo (que seria 0.25): "
   ]
  },
  {
   "cell_type": "code",
   "execution_count": 11,
   "metadata": {},
   "outputs": [
    {
     "name": "stdout",
     "output_type": "stream",
     "text": [
      "Melhor ponto: 0.7763346800671389 ponto ótimo: 0.25 diferença: 0.5263346800671389\n"
     ]
    },
    {
     "data": {
      "image/png": "[encoded data removed]",
      "text/plain": [
       "<Figure size 432x288 with 1 Axes>"
      ]
     },
     "metadata": {
      "needs_background": "light"
     },
     "output_type": "display_data"
    }
   ],
   "source": [
    "def plot_best_trials(study,x_otimo):\n",
    "    desenha_funcao()\n",
    "\n",
    "    #obtem o valor de paramtro x e o resultado para cada tentativa testada e armazena no vetor\n",
    "    #para cada um desses valores, plota no grafico \n",
    "    for trial in study.get_trials():\n",
    "        x = trial.params[\"x\"]\n",
    "        y = trial.value\n",
    "        #apresenta apenas pontos com diferença < 20 do ponto otimo\n",
    "        diff_otimo = abs(x_otimo-x)\n",
    "        plt.scatter(x, y,marker=\"o\")\n",
    "    best_x = study.best_trial.params['x']\n",
    "    print(f\"Melhor ponto: {best_x} ponto ótimo: {x_otimo} diferença: {abs(best_x-x_otimo)}\")\n",
    "plot_best_trials(study_random,0.25)"
   ]
  },
  {
   "cell_type": "markdown",
   "metadata": {},
   "source": [
    "Veja que, com a busca aleatória, encontramos um valor muito diferente do ideal. Agora, se fizermos uma busca usando o método Tree Partzen Estimator:"
   ]
  },
  {
   "cell_type": "code",
   "execution_count": 12,
   "metadata": {},
   "outputs": [
    {
     "name": "stderr",
     "output_type": "stream",
     "text": [
      "[I 2023-09-05 19:37:25,681] A new study created in memory with name: no-name-b86ba525-a93b-4c89-bce2-e5f289f97410\n",
      "[I 2023-09-05 19:37:25,682] Trial 0 finished with value: -3.1678380688122374 and parameters: {'x': -1.6595599059485195}. Best is trial 0 with value: -3.1678380688122374.\n",
      "[I 2023-09-05 19:37:25,683] Trial 1 finished with value: -30.427816059591684 and parameters: {'x': 4.4064898688431615}. Best is trial 0 with value: -3.1678380688122374.\n",
      "[I 2023-09-05 19:37:25,684] Trial 2 finished with value: -205.90622311505624 and parameters: {'x': -9.997712503653101}. Best is trial 0 with value: -3.1678380688122374.\n",
      "[I 2023-09-05 19:37:25,685] Trial 3 finished with value: -31.211278021240723 and parameters: {'x': -3.9533485473632046}. Best is trial 0 with value: -3.1678380688122374.\n",
      "[I 2023-09-05 19:37:25,686] Trial 4 finished with value: -102.89000272158682 and parameters: {'x': -7.064882183657739}. Best is trial 0 with value: -3.1678380688122374.\n",
      "[I 2023-09-05 19:37:25,687] Trial 5 finished with value: -137.10348515668684 and parameters: {'x': -8.153228104624045}. Best is trial 0 with value: -3.1678380688122374.\n",
      "[I 2023-09-05 19:37:25,688] Trial 6 finished with value: -81.02091974427358 and parameters: {'x': -6.274795772446582}. Best is trial 0 with value: -3.1678380688122374.\n",
      "[I 2023-09-05 19:37:25,689] Trial 7 finished with value: -18.169976684316644 and parameters: {'x': -3.0887854591390447}. Best is trial 0 with value: -3.1678380688122374.\n",
      "[I 2023-09-05 19:37:25,691] Trial 8 finished with value: -6.590214016758917 and parameters: {'x': -2.0646505153866013}. Best is trial 0 with value: -3.1678380688122374.\n",
      "[I 2023-09-05 19:37:25,693] Trial 9 finished with value: 3.5709436091172453 and parameters: {'x': 0.7763346800671389}. Best is trial 9 with value: 3.5709436091172453.\n",
      "[I 2023-09-05 19:37:25,699] Trial 10 finished with value: -14.148203287243138 and parameters: {'x': 3.2726812011228654}. Best is trial 9 with value: 3.5709436091172453.\n",
      "[I 2023-09-05 19:37:25,703] Trial 11 finished with value: 3.906286132643851 and parameters: {'x': 0.5806915990436927}. Best is trial 11 with value: 3.906286132643851.\n",
      "[I 2023-09-05 19:37:25,707] Trial 12 finished with value: -0.07030869584933974 and parameters: {'x': 1.6983281216370378}. Best is trial 11 with value: 3.906286132643851.\n",
      "[I 2023-09-05 19:37:25,711] Trial 13 finished with value: -88.86247594256582 and parameters: {'x': 7.068631678810853}. Best is trial 11 with value: 3.906286132643851.\n",
      "[I 2023-09-05 19:37:25,717] Trial 14 finished with value: 4.088492501913052 and parameters: {'x': 0.3851064359809472}. Best is trial 14 with value: 4.088492501913052.\n",
      "[I 2023-09-05 19:37:25,722] Trial 15 finished with value: 3.8975947262600537 and parameters: {'x': -0.08719821599464783}. Best is trial 14 with value: 4.088492501913052.\n",
      "[I 2023-09-05 19:37:25,726] Trial 16 finished with value: -51.9943373871506 and parameters: {'x': 5.5471377831405615}. Best is trial 14 with value: 4.088492501913052.\n",
      "[I 2023-09-05 19:37:25,731] Trial 17 finished with value: -180.87943707730446 and parameters: {'x': 9.867807366476635}. Best is trial 14 with value: 4.088492501913052.\n",
      "[I 2023-09-05 19:37:25,736] Trial 18 finished with value: -5.417729419210744 and parameters: {'x': 2.434345373242375}. Best is trial 14 with value: 4.088492501913052.\n",
      "[I 2023-09-05 19:37:25,741] Trial 19 finished with value: 3.528522277447215 and parameters: {'x': -0.29611249873665435}. Best is trial 14 with value: 4.088492501913052.\n",
      "[I 2023-09-05 19:37:25,745] Trial 20 finished with value: 0.1954329818231333 and parameters: {'x': 1.6517073550097514}. Best is trial 14 with value: 4.088492501913052.\n",
      "[I 2023-09-05 19:37:25,750] Trial 21 finished with value: 3.5223332693894593 and parameters: {'x': -0.2989383984613121}. Best is trial 14 with value: 4.088492501913052.\n",
      "[I 2023-09-05 19:37:25,754] Trial 22 finished with value: 3.272669703331376 and parameters: {'x': -0.40281325686164804}. Best is trial 14 with value: 4.088492501913052.\n",
      "[I 2023-09-05 19:37:25,758] Trial 23 finished with value: -27.62148074244959 and parameters: {'x': -3.7341235386499747}. Best is trial 14 with value: 4.088492501913052.\n",
      "[I 2023-09-05 19:37:25,762] Trial 24 finished with value: 2.3415163680887825 and parameters: {'x': 1.194320822578645}. Best is trial 14 with value: 4.088492501913052.\n",
      "[I 2023-09-05 19:37:25,767] Trial 25 finished with value: -19.823988635888863 and parameters: {'x': 3.710418228761436}. Best is trial 14 with value: 4.088492501913052.\n",
      "[I 2023-09-05 19:37:25,771] Trial 26 finished with value: 1.4161757070052525 and parameters: {'x': -0.9137921405892779}. Best is trial 14 with value: 4.088492501913052.\n",
      "[I 2023-09-05 19:37:25,775] Trial 27 finished with value: 4.034087075003655 and parameters: {'x': 0.4632052121740282}. Best is trial 14 with value: 4.088492501913052.\n",
      "[I 2023-09-05 19:37:25,780] Trial 28 finished with value: -8.65381464288747 and parameters: {'x': 2.777727699227853}. Best is trial 14 with value: 4.088492501913052.\n",
      "[I 2023-09-05 19:37:25,785] Trial 29 finished with value: -2.9208254699969913 and parameters: {'x': -1.6269423898986606}. Best is trial 14 with value: 4.088492501913052.\n"
     ]
    }
   ],
   "source": [
    "from optuna.samplers import TPESampler\n",
    "#Para o TPE, é importante passar o numero de tentativas iniciais\n",
    "#essas serão as unicas que serão totalmente aleatorias para explorar o espaço\n",
    "tpe_sampler = TPESampler(n_startup_trials = 10,seed=1)\n",
    "study_TP = optuna.create_study(sampler=tpe_sampler, direction=\"maximize\")\n",
    "#colocamos 30 tentativas (destas, 10 serão aleatorias e, o restante, considerando o algoritmo)\n",
    "study_TP.optimize(funcao_objetivo, n_trials=30)"
   ]
  },
  {
   "cell_type": "code",
   "execution_count": 13,
   "metadata": {},
   "outputs": [
    {
     "name": "stdout",
     "output_type": "stream",
     "text": [
      "Melhor ponto: 0.3851064359809472 ponto ótimo: 0.25 diferença: 0.13510643598094718\n"
     ]
    },
    {
     "data": {
      "image/png": "[encoded data removed]",
      "text/plain": [
       "<Figure size 432x288 with 1 Axes>"
      ]
     },
     "metadata": {
      "needs_background": "light"
     },
     "output_type": "display_data"
    }
   ],
   "source": [
    "plot_best_trials(study_TP,0.25)"
   ]
  },
  {
   "cell_type": "markdown",
   "metadata": {},
   "source": [
    "Veja que na busca usando o TPE houveram mais tentativas próximas ao ponto ótimo e a melhor solução ficou muito mais próxima ao ponto ótimo."
   ]
  },
  {
   "cell_type": "markdown",
   "metadata": {},
   "source": [
    "## Optuna em um método de aprendizado de máquina"
   ]
  },
  {
   "cell_type": "markdown",
   "metadata": {},
   "source": [
    "Fizemos um exemplo ilustrativo e agora iremos mostrar como aplicar Optuna para avaliar parametros de um método de aprendizado de Máquina. O Optuna será aplicado em um fold. Ou seja, para um determinado fold, deverá ser avaliado qual é o melhor parametro, sempre usando os folds de validação desse fold. \n",
    "\n",
    "Veja um esqueleto do código que poderia ser feito, usando uma função dentro da outra:"
   ]
  },
  {
   "cell_type": "code",
   "execution_count": 15,
   "metadata": {},
   "outputs": [
    {
     "name": "stderr",
     "output_type": "stream",
     "text": [
      "[I 2023-09-05 19:59:00,817] A new study created in memory with name: no-name-6c1adacf-d3fb-4989-8587-b48824595c85\n",
      "[I 2023-09-05 19:59:00,819] Trial 0 finished with value: 0.5 and parameters: {'x': -1.6595599059485195}. Best is trial 0 with value: 0.5.\n",
      "[I 2023-09-05 19:59:00,821] Trial 1 finished with value: 0.5 and parameters: {'x': 4.4064898688431615}. Best is trial 0 with value: 0.5.\n",
      "[I 2023-09-05 19:59:00,823] Trial 2 finished with value: 0.5 and parameters: {'x': -9.997712503653101}. Best is trial 0 with value: 0.5.\n",
      "[I 2023-09-05 19:59:00,824] Trial 3 finished with value: 0.5 and parameters: {'x': -3.9533485473632046}. Best is trial 0 with value: 0.5.\n",
      "[I 2023-09-05 19:59:00,825] Trial 4 finished with value: 0.5 and parameters: {'x': -7.064882183657739}. Best is trial 0 with value: 0.5.\n",
      "[I 2023-09-05 19:59:00,826] Trial 5 finished with value: 0.5 and parameters: {'x': -8.153228104624045}. Best is trial 0 with value: 0.5.\n",
      "[I 2023-09-05 19:59:00,827] Trial 6 finished with value: 0.5 and parameters: {'x': -6.274795772446582}. Best is trial 0 with value: 0.5.\n",
      "[I 2023-09-05 19:59:00,828] Trial 7 finished with value: 0.5 and parameters: {'x': -3.0887854591390447}. Best is trial 0 with value: 0.5.\n",
      "[I 2023-09-05 19:59:00,829] Trial 8 finished with value: 0.5 and parameters: {'x': -2.0646505153866013}. Best is trial 0 with value: 0.5.\n",
      "[I 2023-09-05 19:59:00,830] Trial 9 finished with value: 0.5 and parameters: {'x': 0.7763346800671389}. Best is trial 0 with value: 0.5.\n",
      "[I 2023-09-05 19:59:00,835] Trial 10 finished with value: 0.5 and parameters: {'x': 9.327633476993263}. Best is trial 0 with value: 0.5.\n",
      "[I 2023-09-05 19:59:00,841] Trial 11 finished with value: 0.5 and parameters: {'x': 2.7044405141572687}. Best is trial 0 with value: 0.5.\n",
      "[I 2023-09-05 19:59:00,845] Trial 12 finished with value: 0.5 and parameters: {'x': 3.776666340920439}. Best is trial 0 with value: 0.5.\n",
      "[I 2023-09-05 19:59:00,850] Trial 13 finished with value: 0.5 and parameters: {'x': 5.438919459128677}. Best is trial 0 with value: 0.5.\n",
      "[I 2023-09-05 19:59:00,855] Trial 14 finished with value: 0.5 and parameters: {'x': -0.30196181673295985}. Best is trial 0 with value: 0.5.\n",
      "[I 2023-09-05 19:59:00,860] Trial 15 finished with value: 0.5 and parameters: {'x': 6.950379505317632}. Best is trial 0 with value: 0.5.\n",
      "[I 2023-09-05 19:59:00,864] Trial 16 finished with value: 0.5 and parameters: {'x': 1.8073130949788592}. Best is trial 0 with value: 0.5.\n",
      "[I 2023-09-05 19:59:00,868] Trial 17 finished with value: 0.5 and parameters: {'x': -0.4557771468675771}. Best is trial 0 with value: 0.5.\n",
      "[I 2023-09-05 19:59:00,873] Trial 18 finished with value: 0.5 and parameters: {'x': 4.7857620220049855}. Best is trial 0 with value: 0.5.\n",
      "[I 2023-09-05 19:59:00,878] Trial 19 finished with value: 0.5 and parameters: {'x': 2.4703221100703523}. Best is trial 0 with value: 0.5.\n",
      "[I 2023-09-05 19:59:00,882] Trial 20 finished with value: 0.5 and parameters: {'x': -1.6607890513270007}. Best is trial 0 with value: 0.5.\n",
      "[I 2023-09-05 19:59:00,886] Trial 21 finished with value: 0.5 and parameters: {'x': -9.863775522453281}. Best is trial 0 with value: 0.5.\n",
      "[I 2023-09-05 19:59:00,891] Trial 22 finished with value: 0.5 and parameters: {'x': -5.688488102426989}. Best is trial 0 with value: 0.5.\n",
      "[I 2023-09-05 19:59:00,896] Trial 23 finished with value: 0.5 and parameters: {'x': -4.7048428482258915}. Best is trial 0 with value: 0.5.\n",
      "[I 2023-09-05 19:59:00,901] Trial 24 finished with value: 0.5 and parameters: {'x': -4.223873023393163}. Best is trial 0 with value: 0.5.\n",
      "[I 2023-09-05 19:59:00,907] Trial 25 finished with value: 0.5 and parameters: {'x': -9.63847451610157}. Best is trial 0 with value: 0.5.\n",
      "[I 2023-09-05 19:59:00,912] Trial 26 finished with value: 0.5 and parameters: {'x': 0.780813698995281}. Best is trial 0 with value: 0.5.\n",
      "[I 2023-09-05 19:59:00,916] Trial 27 finished with value: 0.5 and parameters: {'x': -7.25929771508454}. Best is trial 0 with value: 0.5.\n",
      "[I 2023-09-05 19:59:00,921] Trial 28 finished with value: 0.5 and parameters: {'x': -2.7195798305981915}. Best is trial 0 with value: 0.5.\n",
      "[I 2023-09-05 19:59:00,926] Trial 29 finished with value: 0.5 and parameters: {'x': -5.094340082891684}. Best is trial 0 with value: 0.5.\n"
     ]
    },
    {
     "name": "stdout",
     "output_type": "stream",
     "text": [
      "Melhor execução: {'x': -1.6595599059485195}\n"
     ]
    }
   ],
   "source": [
    "from optuna.samplers import TPESampler\n",
    "import optuna \n",
    "from tests import Dados\n",
    "from resultado import Fold\n",
    "\n",
    "def executa_fold(fold):\n",
    "    \n",
    "    def objetivo_ap_de_maquina(trial: optuna.Trial):\n",
    "        #suponha que temos o parametro x para ajustar\n",
    "        x = trial.suggest_float('x', -10, 10)\n",
    "        \n",
    "        #navega em cada um dos folds de validação \n",
    "        soma = 0\n",
    "        for fold_validacao in fold.arr_folds_validacao:\n",
    "            #1. roda um metodo de aprendizado de maquina para o fold_validacao \n",
    "            #usando o parametro x\n",
    "            \n",
    "            #2. armazena resultado em resultado fold\n",
    "            resultado_fold = 0.5#colcoamos um resultado fixo para funcionar\n",
    "            \n",
    "            #3. faz o somatorio para a media\n",
    "            soma += resultado_fold\n",
    "        #4. a funcao objetivo é retornada como a media dos folds de validação\n",
    "        return soma/len(fold.arr_folds_validacao)\n",
    "    \n",
    "    tpe_sampler = TPESampler(n_startup_trials = 10,seed=1)\n",
    "    study_TP = optuna.create_study(sampler=tpe_sampler, direction=\"maximize\")\n",
    "    #colocamos 30 tentativas (destas, 10 serão aleatorias e, o restante, considerando o algoritmo)\n",
    "    study_TP.optimize(objetivo_ap_de_maquina, n_trials=30)\n",
    "    \n",
    "    print(f\"Melhor execução: {study_TP.best_trial.params}\")\n",
    "    #aplica o melhor parametro no teste\n",
    "    #...\n",
    "fold = Fold(Dados.df_treino,Dados.df_teste,\"realClass\",num_folds_validacao=5,num_repeticoes_validacao=2)\n",
    "executa_fold(fold)"
   ]
  },
  {
   "cell_type": "markdown",
   "metadata": {},
   "source": [
    "Não se preocupe que o resultado que ésempre o mesmo, pois implementamos apenas o esqueleto do codigo e deixamos o resultado fixo como \"0.5\". No lugar disso, deveriamos colocar o resultado do método de aprendizado de máquina (como acurária ou macro f1, por exemplo)."
   ]
  },
  {
   "cell_type": "markdown",
   "metadata": {},
   "source": [
    "O código não ficou tão bom pois, como não podemos criar parametros novos na função objetivo e temos que passar o fold na função objetivo, ela tem que ser uma \"variavel global\" a função. Então, se quisermos fazer dessa forma, a função objetivo sempre será sub-função da função/método que calcula todos os resultados. Isso não fica muito legivel e é pouco flexível. Pois, cada método de aprendizado de máquina possui sua própria variação de parametros. Criar várias funções objetivos dentro de uma função de calculo de resultado não ficaria tão legivel e você não poderia usar essas funções externamente. \n",
    "\n",
    "Para melhorarmos isso, podemos criar uma classe que é \"invocável\" ou seja, um classe em que os objetos podem ser chamados (veja [slides](https://daniel-hasan.github.io/cefet-web-grad/classes/python2/#27) e [video-aula](https://www.youtube.com/watch?v=EXmr7zttGWE&list=PLwIaU1DGYV6skjkahOKtpgs9bPXlrVrIp&index=10)). Assim, o fold seria um atributo dessa classe e o código ficaria mais limpo, da seguinte forma: "
   ]
  },
  {
   "cell_type": "code",
   "execution_count": 16,
   "metadata": {},
   "outputs": [
    {
     "name": "stderr",
     "output_type": "stream",
     "text": [
      "[I 2023-09-05 20:01:01,618] A new study created in memory with name: no-name-8c1b283e-59cf-4a44-aa6b-32042d2b18a0\n",
      "[I 2023-09-05 20:01:01,620] Trial 0 finished with value: 0.5 and parameters: {'x': -1.6595599059485195}. Best is trial 0 with value: 0.5.\n",
      "[I 2023-09-05 20:01:01,622] Trial 1 finished with value: 0.5 and parameters: {'x': 4.4064898688431615}. Best is trial 0 with value: 0.5.\n",
      "[I 2023-09-05 20:01:01,624] Trial 2 finished with value: 0.5 and parameters: {'x': -9.997712503653101}. Best is trial 0 with value: 0.5.\n",
      "[I 2023-09-05 20:01:01,626] Trial 3 finished with value: 0.5 and parameters: {'x': -3.9533485473632046}. Best is trial 0 with value: 0.5.\n",
      "[I 2023-09-05 20:01:01,628] Trial 4 finished with value: 0.5 and parameters: {'x': -7.064882183657739}. Best is trial 0 with value: 0.5.\n",
      "[I 2023-09-05 20:01:01,630] Trial 5 finished with value: 0.5 and parameters: {'x': -8.153228104624045}. Best is trial 0 with value: 0.5.\n",
      "[I 2023-09-05 20:01:01,632] Trial 6 finished with value: 0.5 and parameters: {'x': -6.274795772446582}. Best is trial 0 with value: 0.5.\n",
      "[I 2023-09-05 20:01:01,634] Trial 7 finished with value: 0.5 and parameters: {'x': -3.0887854591390447}. Best is trial 0 with value: 0.5.\n",
      "[I 2023-09-05 20:01:01,636] Trial 8 finished with value: 0.5 and parameters: {'x': -2.0646505153866013}. Best is trial 0 with value: 0.5.\n",
      "[I 2023-09-05 20:01:01,637] Trial 9 finished with value: 0.5 and parameters: {'x': 0.7763346800671389}. Best is trial 0 with value: 0.5.\n",
      "[I 2023-09-05 20:01:01,643] Trial 10 finished with value: 0.5 and parameters: {'x': 9.327633476993263}. Best is trial 0 with value: 0.5.\n",
      "[I 2023-09-05 20:01:01,649] Trial 11 finished with value: 0.5 and parameters: {'x': 2.7044405141572687}. Best is trial 0 with value: 0.5.\n",
      "[I 2023-09-05 20:01:01,654] Trial 12 finished with value: 0.5 and parameters: {'x': 3.776666340920439}. Best is trial 0 with value: 0.5.\n",
      "[I 2023-09-05 20:01:01,658] Trial 13 finished with value: 0.5 and parameters: {'x': 5.438919459128677}. Best is trial 0 with value: 0.5.\n",
      "[I 2023-09-05 20:01:01,662] Trial 14 finished with value: 0.5 and parameters: {'x': -0.30196181673295985}. Best is trial 0 with value: 0.5.\n",
      "[I 2023-09-05 20:01:01,668] Trial 15 finished with value: 0.5 and parameters: {'x': 6.950379505317632}. Best is trial 0 with value: 0.5.\n",
      "[I 2023-09-05 20:01:01,672] Trial 16 finished with value: 0.5 and parameters: {'x': 1.8073130949788592}. Best is trial 0 with value: 0.5.\n",
      "[I 2023-09-05 20:01:01,677] Trial 17 finished with value: 0.5 and parameters: {'x': -0.4557771468675771}. Best is trial 0 with value: 0.5.\n",
      "[I 2023-09-05 20:01:01,683] Trial 18 finished with value: 0.5 and parameters: {'x': 4.7857620220049855}. Best is trial 0 with value: 0.5.\n",
      "[I 2023-09-05 20:01:01,687] Trial 19 finished with value: 0.5 and parameters: {'x': 2.4703221100703523}. Best is trial 0 with value: 0.5.\n",
      "[I 2023-09-05 20:01:01,691] Trial 20 finished with value: 0.5 and parameters: {'x': -1.6607890513270007}. Best is trial 0 with value: 0.5.\n",
      "[I 2023-09-05 20:01:01,696] Trial 21 finished with value: 0.5 and parameters: {'x': -9.863775522453281}. Best is trial 0 with value: 0.5.\n",
      "[I 2023-09-05 20:01:01,701] Trial 22 finished with value: 0.5 and parameters: {'x': -5.688488102426989}. Best is trial 0 with value: 0.5.\n",
      "[I 2023-09-05 20:01:01,705] Trial 23 finished with value: 0.5 and parameters: {'x': -4.7048428482258915}. Best is trial 0 with value: 0.5.\n",
      "[I 2023-09-05 20:01:01,709] Trial 24 finished with value: 0.5 and parameters: {'x': -4.223873023393163}. Best is trial 0 with value: 0.5.\n",
      "[I 2023-09-05 20:01:01,714] Trial 25 finished with value: 0.5 and parameters: {'x': -9.63847451610157}. Best is trial 0 with value: 0.5.\n",
      "[I 2023-09-05 20:01:01,719] Trial 26 finished with value: 0.5 and parameters: {'x': 0.780813698995281}. Best is trial 0 with value: 0.5.\n",
      "[I 2023-09-05 20:01:01,723] Trial 27 finished with value: 0.5 and parameters: {'x': -7.25929771508454}. Best is trial 0 with value: 0.5.\n",
      "[I 2023-09-05 20:01:01,729] Trial 28 finished with value: 0.5 and parameters: {'x': -2.7195798305981915}. Best is trial 0 with value: 0.5.\n",
      "[I 2023-09-05 20:01:01,734] Trial 29 finished with value: 0.5 and parameters: {'x': -5.094340082891684}. Best is trial 0 with value: 0.5.\n"
     ]
    },
    {
     "name": "stdout",
     "output_type": "stream",
     "text": [
      "Melhor execução: {'x': -1.6595599059485195}\n"
     ]
    }
   ],
   "source": [
    "class ObjetivoApDeMaquina:\n",
    "    def __init__(self,fold):\n",
    "        self.fold = fold\n",
    "    def __call__(self, trial: optuna.Trial):\n",
    "                #suponha que temos o parametro x para ajustar\n",
    "        x = trial.suggest_float('x', -10, 10)\n",
    "        \n",
    "        #navega em cada um dos folds de validação \n",
    "        soma = 0\n",
    "        for fold_validacao in fold.arr_folds_validacao:\n",
    "            #1. roda um metodo de aprendizado de maquina para o fold_validacao \n",
    "            #usando o parametro x\n",
    "            \n",
    "            #2. armazena resultado em resultado fold\n",
    "            resultado_fold = 0.5#colcoamos um resultado fixo para funcionar\n",
    "            \n",
    "            #3. faz o somatorio para a media\n",
    "            soma += resultado_fold\n",
    "        #4. a funcao objetivo é retornada como a media dos folds de validação\n",
    "        return soma/len(fold.arr_folds_validacao)\n",
    "def executa_fold(fold):\n",
    "\n",
    "    otimiza_fold = ObjetivoApDeMaquina(fold)\n",
    "    \n",
    "    tpe_sampler = TPESampler(n_startup_trials = 10,seed=1)\n",
    "    study_TP = optuna.create_study(sampler=tpe_sampler, direction=\"maximize\")\n",
    "    #colocamos 30 tentativas (destas, 10 serão aleatorias e, o restante, considerando o algoritmo)\n",
    "    study_TP.optimize(otimiza_fold, n_trials=30)\n",
    "    \n",
    "    print(f\"Melhor execução: {study_TP.best_trial.params}\")\n",
    "    #aplica o melhor parametro no teste\n",
    "    #...\n",
    "fold = Fold(Dados.df_treino,Dados.df_teste,\"realClass\",num_folds_validacao=5,num_repeticoes_validacao=2)\n",
    "executa_fold(fold)"
   ]
  },
  {
   "cell_type": "markdown",
   "metadata": {},
   "source": [
    "Para ficar mais flexivel ainda, como podemos possuir várias classes - uma para cada método -, podemos passar **classe como parametro**:"
   ]
  },
  {
   "cell_type": "code",
   "execution_count": 17,
   "metadata": {},
   "outputs": [
    {
     "name": "stderr",
     "output_type": "stream",
     "text": [
      "[I 2023-09-05 20:04:32,633] A new study created in memory with name: no-name-69efe18c-d814-493d-89bd-198f822927a0\n",
      "[I 2023-09-05 20:04:32,634] Trial 0 finished with value: 0.5 and parameters: {'x': -1.6595599059485195}. Best is trial 0 with value: 0.5.\n",
      "[I 2023-09-05 20:04:32,635] Trial 1 finished with value: 0.5 and parameters: {'x': 4.4064898688431615}. Best is trial 0 with value: 0.5.\n",
      "[I 2023-09-05 20:04:32,636] Trial 2 finished with value: 0.5 and parameters: {'x': -9.997712503653101}. Best is trial 0 with value: 0.5.\n",
      "[I 2023-09-05 20:04:32,636] Trial 3 finished with value: 0.5 and parameters: {'x': -3.9533485473632046}. Best is trial 0 with value: 0.5.\n",
      "[I 2023-09-05 20:04:32,638] Trial 4 finished with value: 0.5 and parameters: {'x': -7.064882183657739}. Best is trial 0 with value: 0.5.\n",
      "[I 2023-09-05 20:04:32,639] Trial 5 finished with value: 0.5 and parameters: {'x': -8.153228104624045}. Best is trial 0 with value: 0.5.\n",
      "[I 2023-09-05 20:04:32,640] Trial 6 finished with value: 0.5 and parameters: {'x': -6.274795772446582}. Best is trial 0 with value: 0.5.\n",
      "[I 2023-09-05 20:04:32,641] Trial 7 finished with value: 0.5 and parameters: {'x': -3.0887854591390447}. Best is trial 0 with value: 0.5.\n",
      "[I 2023-09-05 20:04:32,642] Trial 8 finished with value: 0.5 and parameters: {'x': -2.0646505153866013}. Best is trial 0 with value: 0.5.\n",
      "[I 2023-09-05 20:04:32,642] Trial 9 finished with value: 0.5 and parameters: {'x': 0.7763346800671389}. Best is trial 0 with value: 0.5.\n",
      "[I 2023-09-05 20:04:32,647] Trial 10 finished with value: 0.5 and parameters: {'x': 9.327633476993263}. Best is trial 0 with value: 0.5.\n",
      "[I 2023-09-05 20:04:32,651] Trial 11 finished with value: 0.5 and parameters: {'x': 2.7044405141572687}. Best is trial 0 with value: 0.5.\n",
      "[I 2023-09-05 20:04:32,655] Trial 12 finished with value: 0.5 and parameters: {'x': 3.776666340920439}. Best is trial 0 with value: 0.5.\n",
      "[I 2023-09-05 20:04:32,658] Trial 13 finished with value: 0.5 and parameters: {'x': 5.438919459128677}. Best is trial 0 with value: 0.5.\n",
      "[I 2023-09-05 20:04:32,664] Trial 14 finished with value: 0.5 and parameters: {'x': -0.30196181673295985}. Best is trial 0 with value: 0.5.\n",
      "[I 2023-09-05 20:04:32,668] Trial 15 finished with value: 0.5 and parameters: {'x': 6.950379505317632}. Best is trial 0 with value: 0.5.\n",
      "[I 2023-09-05 20:04:32,672] Trial 16 finished with value: 0.5 and parameters: {'x': 1.8073130949788592}. Best is trial 0 with value: 0.5.\n",
      "[I 2023-09-05 20:04:32,676] Trial 17 finished with value: 0.5 and parameters: {'x': -0.4557771468675771}. Best is trial 0 with value: 0.5.\n",
      "[I 2023-09-05 20:04:32,681] Trial 18 finished with value: 0.5 and parameters: {'x': 4.7857620220049855}. Best is trial 0 with value: 0.5.\n",
      "[I 2023-09-05 20:04:32,687] Trial 19 finished with value: 0.5 and parameters: {'x': 2.4703221100703523}. Best is trial 0 with value: 0.5.\n",
      "[I 2023-09-05 20:04:32,692] Trial 20 finished with value: 0.5 and parameters: {'x': -1.6607890513270007}. Best is trial 0 with value: 0.5.\n",
      "[I 2023-09-05 20:04:32,696] Trial 21 finished with value: 0.5 and parameters: {'x': -9.863775522453281}. Best is trial 0 with value: 0.5.\n",
      "[I 2023-09-05 20:04:32,701] Trial 22 finished with value: 0.5 and parameters: {'x': -5.688488102426989}. Best is trial 0 with value: 0.5.\n",
      "[I 2023-09-05 20:04:32,705] Trial 23 finished with value: 0.5 and parameters: {'x': -4.7048428482258915}. Best is trial 0 with value: 0.5.\n",
      "[I 2023-09-05 20:04:32,709] Trial 24 finished with value: 0.5 and parameters: {'x': -4.223873023393163}. Best is trial 0 with value: 0.5.\n",
      "[I 2023-09-05 20:04:32,714] Trial 25 finished with value: 0.5 and parameters: {'x': -9.63847451610157}. Best is trial 0 with value: 0.5.\n",
      "[I 2023-09-05 20:04:32,719] Trial 26 finished with value: 0.5 and parameters: {'x': 0.780813698995281}. Best is trial 0 with value: 0.5.\n",
      "[I 2023-09-05 20:04:32,723] Trial 27 finished with value: 0.5 and parameters: {'x': -7.25929771508454}. Best is trial 0 with value: 0.5.\n",
      "[I 2023-09-05 20:04:32,727] Trial 28 finished with value: 0.5 and parameters: {'x': -2.7195798305981915}. Best is trial 0 with value: 0.5.\n",
      "[I 2023-09-05 20:04:32,732] Trial 29 finished with value: 0.5 and parameters: {'x': -5.094340082891684}. Best is trial 0 with value: 0.5.\n"
     ]
    },
    {
     "name": "stdout",
     "output_type": "stream",
     "text": [
      "Melhor execução: {'x': -1.6595599059485195}\n"
     ]
    }
   ],
   "source": [
    "class ObjetivoApDeMaquina:\n",
    "    def __init__(self,fold):\n",
    "        self.fold = fold\n",
    "    def __call__(self, trial: optuna.Trial):\n",
    "                #suponha que temos o parametro x para ajustar\n",
    "        x = trial.suggest_float('x', -10, 10)\n",
    "        \n",
    "        #navega em cada um dos folds de validação \n",
    "        soma = 0\n",
    "        for fold_validacao in fold.arr_folds_validacao:\n",
    "            #1. roda um metodo de aprendizado de maquina para o fold_validacao \n",
    "            #usando o parametro x\n",
    "            \n",
    "            #2. armazena resultado em resultado fold\n",
    "            resultado_fold = 0.5#colcoamos um resultado fixo para funcionar\n",
    "            \n",
    "            #3. faz o somatorio para a media\n",
    "            soma += resultado_fold\n",
    "        #4. a funcao objetivo é retornada como a media dos folds de validação\n",
    "        return soma/len(fold.arr_folds_validacao)\n",
    "def executa_fold(fold, ClasseObjetivo):\n",
    "\n",
    "    otimiza_fold = ClasseObjetivo(fold)\n",
    "    \n",
    "    tpe_sampler = TPESampler(n_startup_trials = 10,seed=1)\n",
    "    study_TP = optuna.create_study(sampler=tpe_sampler, direction=\"maximize\")\n",
    "    #colocamos 30 tentativas (destas, 10 serão aleatorias e, o restante, considerando o algoritmo)\n",
    "    study_TP.optimize(otimiza_fold, n_trials=30)\n",
    "    \n",
    "    print(f\"Melhor execução: {study_TP.best_trial.params}\")\n",
    "    #aplica o melhor parametro no teste\n",
    "    #...\n",
    "fold = Fold(Dados.df_treino,Dados.df_teste,\"realClass\",num_folds_validacao=5,num_repeticoes_validacao=2)\n",
    "executa_fold(fold, ObjetivoApDeMaquina)"
   ]
  },
  {
   "cell_type": "markdown",
   "metadata": {},
   "source": [
    "O código que vocês irão implementar será muito similar a esses. O arquivo `avaliacao.py` já possui o esqueleto do código para vocês continuarem. A classe `Experimento` é responsável por fazer toda a experimentação, por meio de uma lista de folds e um método de aprendizado de maquina (que são parametros do construtor): (1) para cada fold, descobre-se os melhores parametros usando o(s) fold(s) de validação; (2) com o melhor parametro, é criado o modelo e aplicado o teste. Essa classe é similar também a função `executa_fold` porém um pouco maior - aplicando-se a diversos folds e a um método de aprendizado de máquina em específico. \n",
    "\n",
    "Além disso, temos que implementar as classes de otimização de parametro. A classe `OtimizacaoObjetivo` é a superclasse que possui o esqueleto do que deve ser feito para a otimização de um parametro - similar ao funcionamento da classe `ObjetivoApDeMaquina` acima, porém, temos também um vetor `arr_evaluated_methods` que armazena o método foi executado em cada tentativa - com os seus parametros já definidos. \n",
    "\n",
    "Como pode-se observar, essa classe possui métodos abstratos (ou seja, que devem ser implementados pela suas subclasses). São eles: `obtem_metodo` e o `resultado-metrica_otimizacao`. Pois, cada subclasse será referente a um método (com seus parametros) e, dependendo do método, pode-se ser retornado um valor diferente em `resultado_metrica_otimizacao` (macro F1, por exemplo) dependendo, inclusive, do contexto do problema. Veja como a classe `OtimizacaoObjetivoArvoreDecisao`, uma das subclasses, está implementada. "
   ]
  },
  {
   "cell_type": "markdown",
   "metadata": {},
   "source": [
    "Assim, faça as seguintes atividades: "
   ]
  },
  {
   "cell_type": "markdown",
   "metadata": {},
   "source": [
    "**Atividade 4 classe OtimizacaoObjetivoRandomForest**: No método `obtem_metodo` crie um modelo para a [RandomForest do scikitlearn](http://scikit-learn.org/stable/modules/generated/sklearn.ensemble.RandomForestClassifier.html) que você deverá variar os seguintes parametros: \n",
    "    - min_samples_split: de 0 a 0.5\n",
    "    - max_features: de 0  a 0.5\n",
    "    - num_arvores: inteiro de 1 a `self.num_arvores_max` (use o suggest_int)\n",
    "O método `resultado_metrica_otimizacao` deve retornar a macro F1 do resultado passado como parametro. "
   ]
  },
  {
   "cell_type": "code",
   "execution_count": 2,
   "metadata": {},
   "outputs": [
    {
     "name": "stdout",
     "output_type": "stream",
     "text": [
      "\u001b[32m[I 2023-09-05 20:12:55,722]\u001b[0m A new study created in memory with name: no-name-0b50da90-42a7-408f-9f56-b860d3a7cf81\u001b[0m\n",
      "/home/willian/Machine-Learning/ap-de-maquina-cefetmg-avaliacao-master/resultado.py:75: UndefinedMetricWarning: Não há elementos previstos para a classe 0 precisão foi definida como zero.\n",
      "  warnings.warn(\"Não há elementos previstos para a classe \"+str(classe)+\" precisão foi definida como zero.\", UndefinedMetricWarning)\n",
      "/home/willian/Machine-Learning/ap-de-maquina-cefetmg-avaliacao-master/resultado.py:75: UndefinedMetricWarning: Não há elementos previstos para a classe 0 precisão foi definida como zero.\n",
      "  warnings.warn(\"Não há elementos previstos para a classe \"+str(classe)+\" precisão foi definida como zero.\", UndefinedMetricWarning)\n",
      "\u001b[32m[I 2023-09-05 20:12:55,866]\u001b[0m Trial 0 finished with value: 0.3194444444444444 and parameters: {'min_samples_split': 0.208511002351287, 'max_features': 0.36016224672107905, 'num_arvores': 1}. Best is trial 0 with value: 0.3194444444444444.\u001b[0m\n",
      "/home/willian/Machine-Learning/ap-de-maquina-cefetmg-avaliacao-master/resultado.py:75: UndefinedMetricWarning: Não há elementos previstos para a classe 0 precisão foi definida como zero.\n",
      "  warnings.warn(\"Não há elementos previstos para a classe \"+str(classe)+\" precisão foi definida como zero.\", UndefinedMetricWarning)\n",
      "/home/willian/Machine-Learning/ap-de-maquina-cefetmg-avaliacao-master/resultado.py:75: UndefinedMetricWarning: Não há elementos previstos para a classe 0 precisão foi definida como zero.\n",
      "  warnings.warn(\"Não há elementos previstos para a classe \"+str(classe)+\" precisão foi definida como zero.\", UndefinedMetricWarning)\n",
      "\u001b[32m[I 2023-09-05 20:12:55,898]\u001b[0m Trial 1 finished with value: 0.3194444444444444 and parameters: {'min_samples_split': 0.15116628631591988, 'max_features': 0.07337794540855652, 'num_arvores': 1}. Best is trial 0 with value: 0.3194444444444444.\u001b[0m\n",
      "/home/willian/Machine-Learning/ap-de-maquina-cefetmg-avaliacao-master/resultado.py:75: UndefinedMetricWarning: Não há elementos previstos para a classe 1 precisão foi definida como zero.\n",
      "  warnings.warn(\"Não há elementos previstos para a classe \"+str(classe)+\" precisão foi definida como zero.\", UndefinedMetricWarning)\n",
      "/home/willian/Machine-Learning/ap-de-maquina-cefetmg-avaliacao-master/resultado.py:75: UndefinedMetricWarning: Não há elementos previstos para a classe 1 precisão foi definida como zero.\n",
      "  warnings.warn(\"Não há elementos previstos para a classe \"+str(classe)+\" precisão foi definida como zero.\", UndefinedMetricWarning)\n",
      "/home/willian/Machine-Learning/ap-de-maquina-cefetmg-avaliacao-master/resultado.py:75: UndefinedMetricWarning: Não há elementos previstos para a classe 1 precisão foi definida como zero.\n",
      "  warnings.warn(\"Não há elementos previstos para a classe \"+str(classe)+\" precisão foi definida como zero.\", UndefinedMetricWarning)\n",
      "/home/willian/Machine-Learning/ap-de-maquina-cefetmg-avaliacao-master/resultado.py:75: UndefinedMetricWarning: Não há elementos previstos para a classe 1 precisão foi definida como zero.\n",
      "  warnings.warn(\"Não há elementos previstos para a classe \"+str(classe)+\" precisão foi definida como zero.\", UndefinedMetricWarning)\n",
      "\u001b[32m[I 2023-09-05 20:12:55,934]\u001b[0m Trial 2 finished with value: 0.4055555555555556 and parameters: {'min_samples_split': 0.09313010568883545, 'max_features': 0.17278036352152387, 'num_arvores': 2}. Best is trial 2 with value: 0.4055555555555556.\u001b[0m\n",
      "/home/willian/Machine-Learning/ap-de-maquina-cefetmg-avaliacao-master/resultado.py:75: UndefinedMetricWarning: Não há elementos previstos para a classe 0 precisão foi definida como zero.\n",
      "  warnings.warn(\"Não há elementos previstos para a classe \"+str(classe)+\" precisão foi definida como zero.\", UndefinedMetricWarning)\n",
      "/home/willian/Machine-Learning/ap-de-maquina-cefetmg-avaliacao-master/resultado.py:75: UndefinedMetricWarning: Não há elementos previstos para a classe 1 precisão foi definida como zero.\n",
      "  warnings.warn(\"Não há elementos previstos para a classe \"+str(classe)+\" precisão foi definida como zero.\", UndefinedMetricWarning)\n",
      "/home/willian/Machine-Learning/ap-de-maquina-cefetmg-avaliacao-master/resultado.py:75: UndefinedMetricWarning: Não há elementos previstos para a classe 1 precisão foi definida como zero.\n",
      "  warnings.warn(\"Não há elementos previstos para a classe \"+str(classe)+\" precisão foi definida como zero.\", UndefinedMetricWarning)\n",
      "\u001b[32m[I 2023-09-05 20:12:55,980]\u001b[0m Trial 3 finished with value: 0.3277777777777778 and parameters: {'min_samples_split': 0.2694083670016785, 'max_features': 0.2095972572016474, 'num_arvores': 4}. Best is trial 2 with value: 0.4055555555555556.\u001b[0m\n",
      "/home/willian/Machine-Learning/ap-de-maquina-cefetmg-avaliacao-master/resultado.py:75: UndefinedMetricWarning: Não há elementos previstos para a classe 0 precisão foi definida como zero.\n",
      "  warnings.warn(\"Não há elementos previstos para a classe \"+str(classe)+\" precisão foi definida como zero.\", UndefinedMetricWarning)\n",
      "/home/willian/Machine-Learning/ap-de-maquina-cefetmg-avaliacao-master/resultado.py:75: UndefinedMetricWarning: Não há elementos previstos para a classe 0 precisão foi definida como zero.\n",
      "  warnings.warn(\"Não há elementos previstos para a classe \"+str(classe)+\" precisão foi definida como zero.\", UndefinedMetricWarning)\n",
      "\u001b[32m[I 2023-09-05 20:12:56,012]\u001b[0m Trial 4 finished with value: 0.3194444444444444 and parameters: {'min_samples_split': 0.10222612486575872, 'max_features': 0.4390587181954727, 'num_arvores': 1}. Best is trial 2 with value: 0.4055555555555556.\u001b[0m\n",
      "/home/willian/Machine-Learning/ap-de-maquina-cefetmg-avaliacao-master/resultado.py:75: UndefinedMetricWarning: Não há elementos previstos para a classe 0 precisão foi definida como zero.\n",
      "  warnings.warn(\"Não há elementos previstos para a classe \"+str(classe)+\" precisão foi definida como zero.\", UndefinedMetricWarning)\n",
      "/home/willian/Machine-Learning/ap-de-maquina-cefetmg-avaliacao-master/resultado.py:75: UndefinedMetricWarning: Não há elementos previstos para a classe 1 precisão foi definida como zero.\n",
      "  warnings.warn(\"Não há elementos previstos para a classe \"+str(classe)+\" precisão foi definida como zero.\", UndefinedMetricWarning)\n",
      "\u001b[32m[I 2023-09-05 20:12:56,054]\u001b[0m Trial 5 finished with value: 0.43253968253968256 and parameters: {'min_samples_split': 0.3352337550892011, 'max_features': 0.20865240118356349, 'num_arvores': 3}. Best is trial 5 with value: 0.43253968253968256.\u001b[0m\n",
      "/home/willian/Machine-Learning/ap-de-maquina-cefetmg-avaliacao-master/resultado.py:75: UndefinedMetricWarning: Não há elementos previstos para a classe 0 precisão foi definida como zero.\n",
      "  warnings.warn(\"Não há elementos previstos para a classe \"+str(classe)+\" precisão foi definida como zero.\", UndefinedMetricWarning)\n",
      "\u001b[32m[I 2023-09-05 20:12:56,107]\u001b[0m Trial 6 finished with value: 0.48055555555555557 and parameters: {'min_samples_split': 0.07019346929761688, 'max_features': 0.0990507445424394, 'num_arvores': 5}. Best is trial 6 with value: 0.48055555555555557.\u001b[0m\n",
      "/home/willian/Machine-Learning/ap-de-maquina-cefetmg-avaliacao-master/resultado.py:75: UndefinedMetricWarning: Não há elementos previstos para a classe 1 precisão foi definida como zero.\n",
      "  warnings.warn(\"Não há elementos previstos para a classe \"+str(classe)+\" precisão foi definida como zero.\", UndefinedMetricWarning)\n",
      "/home/willian/Machine-Learning/ap-de-maquina-cefetmg-avaliacao-master/resultado.py:75: UndefinedMetricWarning: Não há elementos previstos para a classe 0 precisão foi definida como zero.\n",
      "  warnings.warn(\"Não há elementos previstos para a classe \"+str(classe)+\" precisão foi definida como zero.\", UndefinedMetricWarning)\n",
      "/home/willian/Machine-Learning/ap-de-maquina-cefetmg-avaliacao-master/resultado.py:75: UndefinedMetricWarning: Não há elementos previstos para a classe 0 precisão foi definida como zero.\n",
      "  warnings.warn(\"Não há elementos previstos para a classe \"+str(classe)+\" precisão foi definida como zero.\", UndefinedMetricWarning)\n",
      "\u001b[32m[I 2023-09-05 20:12:56,154]\u001b[0m Trial 7 finished with value: 0.3333333333333333 and parameters: {'min_samples_split': 0.48413078785969876, 'max_features': 0.15671208907962142, 'num_arvores': 4}. Best is trial 6 with value: 0.48055555555555557.\u001b[0m\n",
      "/home/willian/Machine-Learning/ap-de-maquina-cefetmg-avaliacao-master/resultado.py:75: UndefinedMetricWarning: Não há elementos previstos para a classe 1 precisão foi definida como zero.\n",
      "  warnings.warn(\"Não há elementos previstos para a classe \"+str(classe)+\" precisão foi definida como zero.\", UndefinedMetricWarning)\n"
     ]
    },
    {
     "name": "stdout",
     "output_type": "stream",
     "text": [
      "/home/willian/Machine-Learning/ap-de-maquina-cefetmg-avaliacao-master/resultado.py:75: UndefinedMetricWarning: Não há elementos previstos para a classe 1 precisão foi definida como zero.\n",
      "  warnings.warn(\"Não há elementos previstos para a classe \"+str(classe)+\" precisão foi definida como zero.\", UndefinedMetricWarning)\n",
      "/home/willian/Machine-Learning/ap-de-maquina-cefetmg-avaliacao-master/resultado.py:75: UndefinedMetricWarning: Não há elementos previstos para a classe 0 precisão foi definida como zero.\n",
      "  warnings.warn(\"Não há elementos previstos para a classe \"+str(classe)+\" precisão foi definida como zero.\", UndefinedMetricWarning)\n",
      "/home/willian/Machine-Learning/ap-de-maquina-cefetmg-avaliacao-master/resultado.py:75: UndefinedMetricWarning: Não há elementos previstos para a classe 0 precisão foi definida como zero.\n",
      "  warnings.warn(\"Não há elementos previstos para a classe \"+str(classe)+\" precisão foi definida como zero.\", UndefinedMetricWarning)\n",
      "/home/willian/Machine-Learning/ap-de-maquina-cefetmg-avaliacao-master/resultado.py:75: UndefinedMetricWarning: Não há elementos previstos para a classe 0 precisão foi definida como zero.\n",
      "  warnings.warn(\"Não há elementos previstos para a classe \"+str(classe)+\" precisão foi definida como zero.\", UndefinedMetricWarning)\n",
      "/home/willian/Machine-Learning/ap-de-maquina-cefetmg-avaliacao-master/resultado.py:75: UndefinedMetricWarning: Não há elementos previstos para a classe 1 precisão foi definida como zero.\n",
      "  warnings.warn(\"Não há elementos previstos para a classe \"+str(classe)+\" precisão foi definida como zero.\", UndefinedMetricWarning)\n",
      "\u001b[32m[I 2023-09-05 20:12:56,182]\u001b[0m Trial 8 finished with value: 0.3686507936507937 and parameters: {'min_samples_split': 0.43819457614801915, 'max_features': 0.44730333175192366, 'num_arvores': 1}. Best is trial 6 with value: 0.48055555555555557.\u001b[0m\n",
      "/home/willian/Machine-Learning/ap-de-maquina-cefetmg-avaliacao-master/resultado.py:75: UndefinedMetricWarning: Não há elementos previstos para a classe 0 precisão foi definida como zero.\n",
      "  warnings.warn(\"Não há elementos previstos para a classe \"+str(classe)+\" precisão foi definida como zero.\", UndefinedMetricWarning)\n",
      "\u001b[32m[I 2023-09-05 20:12:56,237]\u001b[0m Trial 9 finished with value: 0.48055555555555557 and parameters: {'min_samples_split': 0.01952739161644118, 'max_features': 0.08491520978228445, 'num_arvores': 5}. Best is trial 6 with value: 0.48055555555555557.\u001b[0m\n",
      "/home/willian/Machine-Learning/ap-de-maquina-cefetmg-avaliacao-master/resultado.py:75: UndefinedMetricWarning: Não há elementos previstos para a classe 0 precisão foi definida como zero.\n",
      "  warnings.warn(\"Não há elementos previstos para a classe \"+str(classe)+\" precisão foi definida como zero.\", UndefinedMetricWarning)\n",
      "\u001b[32m[I 2023-09-05 20:12:56,301]\u001b[0m Trial 10 finished with value: 0.48055555555555557 and parameters: {'min_samples_split': 0.0056894343988741075, 'max_features': 0.04631534712222245, 'num_arvores': 5}. Best is trial 6 with value: 0.48055555555555557.\u001b[0m\n",
      "/home/willian/Machine-Learning/ap-de-maquina-cefetmg-avaliacao-master/resultado.py:75: UndefinedMetricWarning: Não há elementos previstos para a classe 0 precisão foi definida como zero.\n",
      "  warnings.warn(\"Não há elementos previstos para a classe \"+str(classe)+\" precisão foi definida como zero.\", UndefinedMetricWarning)\n",
      "\u001b[32m[I 2023-09-05 20:12:56,363]\u001b[0m Trial 11 finished with value: 0.48055555555555557 and parameters: {'min_samples_split': 0.011689324655719542, 'max_features': 0.005334280560063187, 'num_arvores': 5}. Best is trial 6 with value: 0.48055555555555557.\u001b[0m\n",
      "/home/willian/Machine-Learning/ap-de-maquina-cefetmg-avaliacao-master/resultado.py:75: UndefinedMetricWarning: Não há elementos previstos para a classe 0 precisão foi definida como zero.\n",
      "  warnings.warn(\"Não há elementos previstos para a classe \"+str(classe)+\" precisão foi definida como zero.\", UndefinedMetricWarning)\n",
      "/home/willian/Machine-Learning/ap-de-maquina-cefetmg-avaliacao-master/resultado.py:75: UndefinedMetricWarning: Não há elementos previstos para a classe 1 precisão foi definida como zero.\n",
      "  warnings.warn(\"Não há elementos previstos para a classe \"+str(classe)+\" precisão foi definida como zero.\", UndefinedMetricWarning)\n",
      "/home/willian/Machine-Learning/ap-de-maquina-cefetmg-avaliacao-master/resultado.py:75: UndefinedMetricWarning: Não há elementos previstos para a classe 1 precisão foi definida como zero.\n",
      "  warnings.warn(\"Não há elementos previstos para a classe \"+str(classe)+\" precisão foi definida como zero.\", UndefinedMetricWarning)\n",
      "\u001b[32m[I 2023-09-05 20:12:56,417]\u001b[0m Trial 12 finished with value: 0.3277777777777778 and parameters: {'min_samples_split': 0.05868974653573428, 'max_features': 0.10592807537980475, 'num_arvores': 4}. Best is trial 6 with value: 0.48055555555555557.\u001b[0m\n",
      "/home/willian/Machine-Learning/ap-de-maquina-cefetmg-avaliacao-master/resultado.py:75: UndefinedMetricWarning: Não há elementos previstos para a classe 0 precisão foi definida como zero.\n",
      "  warnings.warn(\"Não há elementos previstos para a classe \"+str(classe)+\" precisão foi definida como zero.\", UndefinedMetricWarning)\n",
      "\u001b[32m[I 2023-09-05 20:12:56,483]\u001b[0m Trial 13 finished with value: 0.48055555555555557 and parameters: {'min_samples_split': 0.1531668507074539, 'max_features': 0.10441403515084534, 'num_arvores': 5}. Best is trial 6 with value: 0.48055555555555557.\u001b[0m\n",
      "/home/willian/Machine-Learning/ap-de-maquina-cefetmg-avaliacao-master/resultado.py:75: UndefinedMetricWarning: Não há elementos previstos para a classe 0 precisão foi definida como zero.\n",
      "  warnings.warn(\"Não há elementos previstos para a classe \"+str(classe)+\" precisão foi definida como zero.\", UndefinedMetricWarning)\n",
      "\u001b[32m[I 2023-09-05 20:12:56,540]\u001b[0m Trial 14 finished with value: 0.48055555555555557 and parameters: {'min_samples_split': 0.056467848492167794, 'max_features': 0.2847770597039946, 'num_arvores': 3}. Best is trial 6 with value: 0.48055555555555557.\u001b[0m\n",
      "/home/willian/Machine-Learning/ap-de-maquina-cefetmg-avaliacao-master/resultado.py:75: UndefinedMetricWarning: Não há elementos previstos para a classe 0 precisão foi definida como zero.\n",
      "  warnings.warn(\"Não há elementos previstos para a classe \"+str(classe)+\" precisão foi definida como zero.\", UndefinedMetricWarning)\n",
      "\u001b[32m[I 2023-09-05 20:12:56,607]\u001b[0m Trial 15 finished with value: 0.48055555555555557 and parameters: {'min_samples_split': 0.001591902099917504, 'max_features': 0.007459525133282741, 'num_arvores': 5}. Best is trial 6 with value: 0.48055555555555557.\u001b[0m\n",
      "/home/willian/Machine-Learning/ap-de-maquina-cefetmg-avaliacao-master/resultado.py:75: UndefinedMetricWarning: Não há elementos previstos para a classe 0 precisão foi definida como zero.\n",
      "  warnings.warn(\"Não há elementos previstos para a classe \"+str(classe)+\" precisão foi definida como zero.\", UndefinedMetricWarning)\n",
      "/home/willian/Machine-Learning/ap-de-maquina-cefetmg-avaliacao-master/resultado.py:75: UndefinedMetricWarning: Não há elementos previstos para a classe 1 precisão foi definida como zero.\n",
      "  warnings.warn(\"Não há elementos previstos para a classe \"+str(classe)+\" precisão foi definida como zero.\", UndefinedMetricWarning)\n",
      "/home/willian/Machine-Learning/ap-de-maquina-cefetmg-avaliacao-master/resultado.py:75: UndefinedMetricWarning: Não há elementos previstos para a classe 1 precisão foi definida como zero.\n",
      "  warnings.warn(\"Não há elementos previstos para a classe \"+str(classe)+\" precisão foi definida como zero.\", UndefinedMetricWarning)\n",
      "\u001b[32m[I 2023-09-05 20:12:56,662]\u001b[0m Trial 16 finished with value: 0.3277777777777778 and parameters: {'min_samples_split': 0.1622069464858617, 'max_features': 0.11950653183546249, 'num_arvores': 4}. Best is trial 6 with value: 0.48055555555555557.\u001b[0m\n",
      "/home/willian/Machine-Learning/ap-de-maquina-cefetmg-avaliacao-master/resultado.py:75: UndefinedMetricWarning: Não há elementos previstos para a classe 0 precisão foi definida como zero.\n",
      "  warnings.warn(\"Não há elementos previstos para a classe \"+str(classe)+\" precisão foi definida como zero.\", UndefinedMetricWarning)\n",
      "\u001b[32m[I 2023-09-05 20:12:56,726]\u001b[0m Trial 17 finished with value: 0.48055555555555557 and parameters: {'min_samples_split': 0.08918096052541322, 'max_features': 0.05100681216926839, 'num_arvores': 5}. Best is trial 6 with value: 0.48055555555555557.\u001b[0m\n",
      "/home/willian/Machine-Learning/ap-de-maquina-cefetmg-avaliacao-master/resultado.py:75: UndefinedMetricWarning: Não há elementos previstos para a classe 0 precisão foi definida como zero.\n",
      "  warnings.warn(\"Não há elementos previstos para a classe \"+str(classe)+\" precisão foi definida como zero.\", UndefinedMetricWarning)\n"
     ]
    },
    {
     "name": "stdout",
     "output_type": "stream",
     "text": [
      "\u001b[32m[I 2023-09-05 20:12:56,780]\u001b[0m Trial 18 finished with value: 0.48055555555555557 and parameters: {'min_samples_split': 0.05707691370147575, 'max_features': 0.2718056785244352, 'num_arvores': 3}. Best is trial 6 with value: 0.48055555555555557.\u001b[0m\n",
      "/home/willian/Machine-Learning/ap-de-maquina-cefetmg-avaliacao-master/resultado.py:75: UndefinedMetricWarning: Não há elementos previstos para a classe 0 precisão foi definida como zero.\n",
      "  warnings.warn(\"Não há elementos previstos para a classe \"+str(classe)+\" precisão foi definida como zero.\", UndefinedMetricWarning)\n",
      "/home/willian/Machine-Learning/ap-de-maquina-cefetmg-avaliacao-master/resultado.py:75: UndefinedMetricWarning: Não há elementos previstos para a classe 1 precisão foi definida como zero.\n",
      "  warnings.warn(\"Não há elementos previstos para a classe \"+str(classe)+\" precisão foi definida como zero.\", UndefinedMetricWarning)\n",
      "/home/willian/Machine-Learning/ap-de-maquina-cefetmg-avaliacao-master/resultado.py:75: UndefinedMetricWarning: Não há elementos previstos para a classe 1 precisão foi definida como zero.\n",
      "  warnings.warn(\"Não há elementos previstos para a classe \"+str(classe)+\" precisão foi definida como zero.\", UndefinedMetricWarning)\n",
      "\u001b[32m[I 2023-09-05 20:12:56,838]\u001b[0m Trial 19 finished with value: 0.3277777777777778 and parameters: {'min_samples_split': 0.23970055916784472, 'max_features': 0.13630505685076816, 'num_arvores': 4}. Best is trial 6 with value: 0.48055555555555557.\u001b[0m\n",
      "/home/willian/Machine-Learning/ap-de-maquina-cefetmg-avaliacao-master/resultado.py:75: UndefinedMetricWarning: Não há elementos previstos para a classe 1 precisão foi definida como zero.\n",
      "  warnings.warn(\"Não há elementos previstos para a classe \"+str(classe)+\" precisão foi definida como zero.\", UndefinedMetricWarning)\n",
      "/home/willian/Machine-Learning/ap-de-maquina-cefetmg-avaliacao-master/resultado.py:75: UndefinedMetricWarning: Não há elementos previstos para a classe 1 precisão foi definida como zero.\n",
      "  warnings.warn(\"Não há elementos previstos para a classe \"+str(classe)+\" precisão foi definida como zero.\", UndefinedMetricWarning)\n",
      "/home/willian/Machine-Learning/ap-de-maquina-cefetmg-avaliacao-master/resultado.py:75: UndefinedMetricWarning: Não há elementos previstos para a classe 1 precisão foi definida como zero.\n",
      "  warnings.warn(\"Não há elementos previstos para a classe \"+str(classe)+\" precisão foi definida como zero.\", UndefinedMetricWarning)\n",
      "/home/willian/Machine-Learning/ap-de-maquina-cefetmg-avaliacao-master/resultado.py:75: UndefinedMetricWarning: Não há elementos previstos para a classe 1 precisão foi definida como zero.\n",
      "  warnings.warn(\"Não há elementos previstos para a classe \"+str(classe)+\" precisão foi definida como zero.\", UndefinedMetricWarning)\n",
      "\u001b[32m[I 2023-09-05 20:12:56,887]\u001b[0m Trial 20 finished with value: 0.4055555555555556 and parameters: {'min_samples_split': 0.11587722326914562, 'max_features': 0.08099084583073046, 'num_arvores': 2}. Best is trial 6 with value: 0.48055555555555557.\u001b[0m\n",
      "/home/willian/Machine-Learning/ap-de-maquina-cefetmg-avaliacao-master/resultado.py:75: UndefinedMetricWarning: Não há elementos previstos para a classe 0 precisão foi definida como zero.\n",
      "  warnings.warn(\"Não há elementos previstos para a classe \"+str(classe)+\" precisão foi definida como zero.\", UndefinedMetricWarning)\n",
      "\u001b[32m[I 2023-09-05 20:12:56,955]\u001b[0m Trial 21 finished with value: 0.48055555555555557 and parameters: {'min_samples_split': 0.0036336511392773105, 'max_features': 0.04549681929732295, 'num_arvores': 5}. Best is trial 6 with value: 0.48055555555555557.\u001b[0m\n",
      "/home/willian/Machine-Learning/ap-de-maquina-cefetmg-avaliacao-master/resultado.py:75: UndefinedMetricWarning: Não há elementos previstos para a classe 0 precisão foi definida como zero.\n",
      "  warnings.warn(\"Não há elementos previstos para a classe \"+str(classe)+\" precisão foi definida como zero.\", UndefinedMetricWarning)\n",
      "\u001b[32m[I 2023-09-05 20:12:57,023]\u001b[0m Trial 22 finished with value: 0.48055555555555557 and parameters: {'min_samples_split': 0.0372832286451083, 'max_features': 0.044318904781700696, 'num_arvores': 5}. Best is trial 6 with value: 0.48055555555555557.\u001b[0m\n",
      "/home/willian/Machine-Learning/ap-de-maquina-cefetmg-avaliacao-master/resultado.py:75: UndefinedMetricWarning: Não há elementos previstos para a classe 0 precisão foi definida como zero.\n",
      "  warnings.warn(\"Não há elementos previstos para a classe \"+str(classe)+\" precisão foi definida como zero.\", UndefinedMetricWarning)\n",
      "\u001b[32m[I 2023-09-05 20:12:57,090]\u001b[0m Trial 23 finished with value: 0.48055555555555557 and parameters: {'min_samples_split': 0.040182350619056395, 'max_features': 0.10135677600337482, 'num_arvores': 5}. Best is trial 6 with value: 0.48055555555555557.\u001b[0m\n",
      "/home/willian/Machine-Learning/ap-de-maquina-cefetmg-avaliacao-master/resultado.py:75: UndefinedMetricWarning: Não há elementos previstos para a classe 0 precisão foi definida como zero.\n",
      "  warnings.warn(\"Não há elementos previstos para a classe \"+str(classe)+\" precisão foi definida como zero.\", UndefinedMetricWarning)\n",
      "/home/willian/Machine-Learning/ap-de-maquina-cefetmg-avaliacao-master/resultado.py:75: UndefinedMetricWarning: Não há elementos previstos para a classe 1 precisão foi definida como zero.\n",
      "  warnings.warn(\"Não há elementos previstos para a classe \"+str(classe)+\" precisão foi definida como zero.\", UndefinedMetricWarning)\n",
      "/home/willian/Machine-Learning/ap-de-maquina-cefetmg-avaliacao-master/resultado.py:75: UndefinedMetricWarning: Não há elementos previstos para a classe 1 precisão foi definida como zero.\n",
      "  warnings.warn(\"Não há elementos previstos para a classe \"+str(classe)+\" precisão foi definida como zero.\", UndefinedMetricWarning)\n",
      "\u001b[32m[I 2023-09-05 20:12:57,147]\u001b[0m Trial 24 finished with value: 0.3277777777777778 and parameters: {'min_samples_split': 0.005209143702533058, 'max_features': 0.1553303693017672, 'num_arvores': 4}. Best is trial 6 with value: 0.48055555555555557.\u001b[0m\n",
      "/home/willian/Machine-Learning/ap-de-maquina-cefetmg-avaliacao-master/resultado.py:75: UndefinedMetricWarning: Não há elementos previstos para a classe 0 precisão foi definida como zero.\n",
      "  warnings.warn(\"Não há elementos previstos para a classe \"+str(classe)+\" precisão foi definida como zero.\", UndefinedMetricWarning)\n",
      "\u001b[32m[I 2023-09-05 20:12:57,239]\u001b[0m Trial 25 finished with value: 0.48055555555555557 and parameters: {'min_samples_split': 0.07981975259817073, 'max_features': 0.01302036722795162, 'num_arvores': 5}. Best is trial 6 with value: 0.48055555555555557.\u001b[0m\n",
      "/home/willian/Machine-Learning/ap-de-maquina-cefetmg-avaliacao-master/resultado.py:75: UndefinedMetricWarning: Não há elementos previstos para a classe 0 precisão foi definida como zero.\n",
      "  warnings.warn(\"Não há elementos previstos para a classe \"+str(classe)+\" precisão foi definida como zero.\", UndefinedMetricWarning)\n",
      "/home/willian/Machine-Learning/ap-de-maquina-cefetmg-avaliacao-master/resultado.py:75: UndefinedMetricWarning: Não há elementos previstos para a classe 1 precisão foi definida como zero.\n",
      "  warnings.warn(\"Não há elementos previstos para a classe \"+str(classe)+\" precisão foi definida como zero.\", UndefinedMetricWarning)\n",
      "/home/willian/Machine-Learning/ap-de-maquina-cefetmg-avaliacao-master/resultado.py:75: UndefinedMetricWarning: Não há elementos previstos para a classe 1 precisão foi definida como zero.\n",
      "  warnings.warn(\"Não há elementos previstos para a classe \"+str(classe)+\" precisão foi definida como zero.\", UndefinedMetricWarning)\n",
      "\u001b[32m[I 2023-09-05 20:12:57,295]\u001b[0m Trial 26 finished with value: 0.3277777777777778 and parameters: {'min_samples_split': 0.12343554434966321, 'max_features': 0.06606769930169804, 'num_arvores': 4}. Best is trial 6 with value: 0.48055555555555557.\u001b[0m\n",
      "/home/willian/Machine-Learning/ap-de-maquina-cefetmg-avaliacao-master/resultado.py:75: UndefinedMetricWarning: Não há elementos previstos para a classe 0 precisão foi definida como zero.\n",
      "  warnings.warn(\"Não há elementos previstos para a classe \"+str(classe)+\" precisão foi definida como zero.\", UndefinedMetricWarning)\n",
      "\u001b[32m[I 2023-09-05 20:12:57,366]\u001b[0m Trial 27 finished with value: 0.48055555555555557 and parameters: {'min_samples_split': 0.03808116849492132, 'max_features': 0.040050979496998804, 'num_arvores': 5}. Best is trial 6 with value: 0.48055555555555557.\u001b[0m\n"
     ]
    },
    {
     "name": "stdout",
     "output_type": "stream",
     "text": [
      "/home/willian/Machine-Learning/ap-de-maquina-cefetmg-avaliacao-master/resultado.py:75: UndefinedMetricWarning: Não há elementos previstos para a classe 0 precisão foi definida como zero.\n",
      "  warnings.warn(\"Não há elementos previstos para a classe \"+str(classe)+\" precisão foi definida como zero.\", UndefinedMetricWarning)\n",
      "\u001b[32m[I 2023-09-05 20:12:57,422]\u001b[0m Trial 28 finished with value: 0.48055555555555557 and parameters: {'min_samples_split': 0.07005044610773747, 'max_features': 0.08635811789080496, 'num_arvores': 3}. Best is trial 6 with value: 0.48055555555555557.\u001b[0m\n",
      "/home/willian/Machine-Learning/ap-de-maquina-cefetmg-avaliacao-master/resultado.py:75: UndefinedMetricWarning: Não há elementos previstos para a classe 0 precisão foi definida como zero.\n",
      "  warnings.warn(\"Não há elementos previstos para a classe \"+str(classe)+\" precisão foi definida como zero.\", UndefinedMetricWarning)\n",
      "\u001b[32m[I 2023-09-05 20:12:57,485]\u001b[0m Trial 29 finished with value: 0.48055555555555557 and parameters: {'min_samples_split': 0.19600208028986374, 'max_features': 0.13594839652305535, 'num_arvores': 5}. Best is trial 6 with value: 0.48055555555555557.\u001b[0m\n",
      "{'min_samples_split': 0.208511002351287, 'max_features': 0.36016224672107905, 'num_arvores': 1}\n",
      "{'min_samples_split': 0.15116628631591988, 'max_features': 0.07337794540855652, 'num_arvores': 1}\n",
      "{'min_samples_split': 0.09313010568883545, 'max_features': 0.17278036352152387, 'num_arvores': 2}\n",
      "{'min_samples_split': 0.2694083670016785, 'max_features': 0.2095972572016474, 'num_arvores': 4}\n",
      "{'min_samples_split': 0.10222612486575872, 'max_features': 0.4390587181954727, 'num_arvores': 1}\n",
      "{'min_samples_split': 0.3352337550892011, 'max_features': 0.20865240118356349, 'num_arvores': 3}\n",
      "{'min_samples_split': 0.07019346929761688, 'max_features': 0.0990507445424394, 'num_arvores': 5}\n",
      "{'min_samples_split': 0.48413078785969876, 'max_features': 0.15671208907962142, 'num_arvores': 4}\n",
      "{'min_samples_split': 0.43819457614801915, 'max_features': 0.44730333175192366, 'num_arvores': 1}\n",
      "{'min_samples_split': 0.01952739161644118, 'max_features': 0.08491520978228445, 'num_arvores': 5}\n",
      "{'min_samples_split': 0.0056894343988741075, 'max_features': 0.04631534712222245, 'num_arvores': 5}\n",
      "{'min_samples_split': 0.011689324655719542, 'max_features': 0.005334280560063187, 'num_arvores': 5}\n",
      "{'min_samples_split': 0.05868974653573428, 'max_features': 0.10592807537980475, 'num_arvores': 4}\n",
      "{'min_samples_split': 0.1531668507074539, 'max_features': 0.10441403515084534, 'num_arvores': 5}\n",
      "{'min_samples_split': 0.056467848492167794, 'max_features': 0.2847770597039946, 'num_arvores': 3}\n",
      "{'min_samples_split': 0.001591902099917504, 'max_features': 0.007459525133282741, 'num_arvores': 5}\n",
      "{'min_samples_split': 0.1622069464858617, 'max_features': 0.11950653183546249, 'num_arvores': 4}\n",
      "{'min_samples_split': 0.08918096052541322, 'max_features': 0.05100681216926839, 'num_arvores': 5}\n",
      "{'min_samples_split': 0.05707691370147575, 'max_features': 0.2718056785244352, 'num_arvores': 3}\n",
      "{'min_samples_split': 0.23970055916784472, 'max_features': 0.13630505685076816, 'num_arvores': 4}\n",
      "{'min_samples_split': 0.11587722326914562, 'max_features': 0.08099084583073046, 'num_arvores': 2}\n",
      "{'min_samples_split': 0.0036336511392773105, 'max_features': 0.04549681929732295, 'num_arvores': 5}\n",
      "{'min_samples_split': 0.0372832286451083, 'max_features': 0.044318904781700696, 'num_arvores': 5}\n",
      "{'min_samples_split': 0.040182350619056395, 'max_features': 0.10135677600337482, 'num_arvores': 5}\n",
      "{'min_samples_split': 0.005209143702533058, 'max_features': 0.1553303693017672, 'num_arvores': 4}\n",
      "{'min_samples_split': 0.07981975259817073, 'max_features': 0.01302036722795162, 'num_arvores': 5}\n",
      "{'min_samples_split': 0.12343554434966321, 'max_features': 0.06606769930169804, 'num_arvores': 4}\n",
      "{'min_samples_split': 0.03808116849492132, 'max_features': 0.040050979496998804, 'num_arvores': 5}\n",
      "{'min_samples_split': 0.07005044610773747, 'max_features': 0.08635811789080496, 'num_arvores': 3}\n",
      "{'min_samples_split': 0.19600208028986374, 'max_features': 0.13594839652305535, 'num_arvores': 5}\n",
      "Melhor execução: {'min_samples_split': 0.07019346929761688, 'max_features': 0.0990507445424394, 'num_arvores': 5}\n",
      "Resultado: 0.3650793650793651\n",
      ".\n",
      "----------------------------------------------------------------------\n",
      "Ran 1 test in 1.769s\n",
      "\n",
      "OK\n"
     ]
    }
   ],
   "source": [
    "!python3 -m tests TestObjetivoOtimizacaoRF.test_otimizacao"
   ]
  },
  {
   "cell_type": "markdown",
   "metadata": {},
   "source": [
    "- O warning é que, em alguns casos, em alguma classe, não há previsão para a mesma e, assim, daria divisão por zero. Como é um exemplo pequeno, isso é natural ocorrer. Se fosse um exemplo real, seria interessante investigar para evitar que uma classe não tenha previsão. Por exemplo: será que existe exemplos o suficiente para esta classe? "
   ]
  },
  {
   "cell_type": "markdown",
   "metadata": {},
   "source": [
    "**Atividade 5 - método `calcula_resultados` da classe Experimento**: Esse método deve calcular os resultados para cada fold (navegando no atributo `folds`) e, para isso, se houver fold de validação e tiver uma classe de otimização definida, deve obter o melhor método nos folds de validação e aplicá-lo no teste para obter o resultado. \n",
    "\n"
   ]
  },
  {
   "cell_type": "code",
   "execution_count": 3,
   "metadata": {},
   "outputs": [
    {
     "name": "stdout",
     "output_type": "stream",
     "text": [
      "\u001b[32m[I 2023-09-05 21:20:48,660]\u001b[0m A new study created in memory with name: no-name-ae34146e-13da-4320-8221-7284cb4a1a6f\u001b[0m\n",
      "\u001b[32m[I 2023-09-05 21:20:48,947]\u001b[0m Trial 0 finished with value: 0.6096560846560847 and parameters: {'min_samples_split': 0.208511002351287}. Best is trial 0 with value: 0.6096560846560847.\u001b[0m\n",
      "\u001b[32m[I 2023-09-05 21:20:48,968]\u001b[0m Trial 1 finished with value: 0.5826719576719577 and parameters: {'min_samples_split': 0.36016224672107905}. Best is trial 0 with value: 0.6096560846560847.\u001b[0m\n",
      "\u001b[32m[I 2023-09-05 21:20:48,988]\u001b[0m Trial 2 finished with value: 0.6294973544973546 and parameters: {'min_samples_split': 5.718740867244332e-05}. Best is trial 2 with value: 0.6294973544973546.\u001b[0m\n",
      "\u001b[32m[I 2023-09-05 21:20:49,013]\u001b[0m Trial 3 finished with value: 0.6294973544973546 and parameters: {'min_samples_split': 0.0054698709964823115}. Best is trial 2 with value: 0.6294973544973546.\u001b[0m\n",
      "\u001b[32m[I 2023-09-05 21:20:49,036]\u001b[0m Trial 4 finished with value: 0.6294973544973546 and parameters: {'min_samples_split': 0.041847063324110916}. Best is trial 2 with value: 0.6294973544973546.\u001b[0m\n",
      "\u001b[32m[I 2023-09-05 21:20:49,060]\u001b[0m Trial 5 finished with value: 0.4656084656084656 and parameters: {'min_samples_split': 0.4835976409771159}. Best is trial 2 with value: 0.6294973544973546.\u001b[0m\n",
      "\u001b[32m[I 2023-09-05 21:20:49,084]\u001b[0m Trial 6 finished with value: 0.6096560846560847 and parameters: {'min_samples_split': 0.16892583175198858}. Best is trial 2 with value: 0.6294973544973546.\u001b[0m\n",
      "\u001b[32m[I 2023-09-05 21:20:49,107]\u001b[0m Trial 7 finished with value: 0.6294973544973546 and parameters: {'min_samples_split': 0.10207284892725652}. Best is trial 2 with value: 0.6294973544973546.\u001b[0m\n",
      "\u001b[32m[I 2023-09-05 21:20:49,132]\u001b[0m Trial 8 finished with value: 0.6294973544973546 and parameters: {'min_samples_split': 0.12509529152870072}. Best is trial 2 with value: 0.6294973544973546.\u001b[0m\n",
      "\u001b[32m[I 2023-09-05 21:20:49,155]\u001b[0m Trial 9 finished with value: 0.6096560846560847 and parameters: {'min_samples_split': 0.2685677113224781}. Best is trial 2 with value: 0.6294973544973546.\u001b[0m\n",
      "\u001b[32m[I 2023-09-05 21:20:49,180]\u001b[0m Trial 10 finished with value: 0.6294973544973546 and parameters: {'min_samples_split': 0.014159543605584524}. Best is trial 2 with value: 0.6294973544973546.\u001b[0m\n",
      "\u001b[32m[I 2023-09-05 21:20:49,204]\u001b[0m Trial 11 finished with value: 0.6294973544973546 and parameters: {'min_samples_split': 0.004354817127648061}. Best is trial 2 with value: 0.6294973544973546.\u001b[0m\n",
      "\u001b[32m[I 2023-09-05 21:20:49,232]\u001b[0m Trial 12 finished with value: 0.6294973544973546 and parameters: {'min_samples_split': 0.08676022521334256}. Best is trial 2 with value: 0.6294973544973546.\u001b[0m\n",
      "\u001b[32m[I 2023-09-05 21:20:49,259]\u001b[0m Trial 13 finished with value: 0.6294973544973546 and parameters: {'min_samples_split': 0.005082932173380548}. Best is trial 2 with value: 0.6294973544973546.\u001b[0m\n",
      "\u001b[32m[I 2023-09-05 21:20:49,282]\u001b[0m Trial 14 finished with value: 0.6294973544973546 and parameters: {'min_samples_split': 0.06586398278145905}. Best is trial 2 with value: 0.6294973544973546.\u001b[0m\n",
      "\u001b[32m[I 2023-09-05 21:20:49,306]\u001b[0m Trial 15 finished with value: 0.6294973544973546 and parameters: {'min_samples_split': 0.1312033227050567}. Best is trial 2 with value: 0.6294973544973546.\u001b[0m\n",
      "\u001b[32m[I 2023-09-05 21:20:49,330]\u001b[0m Trial 16 finished with value: 0.6294973544973546 and parameters: {'min_samples_split': 0.05722967320545441}. Best is trial 2 with value: 0.6294973544973546.\u001b[0m\n",
      "\u001b[32m[I 2023-09-05 21:20:49,353]\u001b[0m Trial 17 finished with value: 0.5937830687830689 and parameters: {'min_samples_split': 0.16519478558047967}. Best is trial 2 with value: 0.6294973544973546.\u001b[0m\n",
      "\u001b[32m[I 2023-09-05 21:20:49,378]\u001b[0m Trial 18 finished with value: 0.6294973544973546 and parameters: {'min_samples_split': 0.07583942003958982}. Best is trial 2 with value: 0.6294973544973546.\u001b[0m\n",
      "\u001b[32m[I 2023-09-05 21:20:49,402]\u001b[0m Trial 19 finished with value: 0.6294973544973546 and parameters: {'min_samples_split': 0.007459525133282741}. Best is trial 2 with value: 0.6294973544973546.\u001b[0m\n",
      "\u001b[32m[I 2023-09-05 21:20:49,426]\u001b[0m Trial 20 finished with value: 0.6294973544973546 and parameters: {'min_samples_split': 0.05542261577158729}. Best is trial 2 with value: 0.6294973544973546.\u001b[0m\n",
      "\u001b[32m[I 2023-09-05 21:20:49,452]\u001b[0m Trial 21 finished with value: 0.6294973544973546 and parameters: {'min_samples_split': 0.04608150529784271}. Best is trial 2 with value: 0.6294973544973546.\u001b[0m\n",
      "\u001b[32m[I 2023-09-05 21:20:49,476]\u001b[0m Trial 22 finished with value: 0.6294973544973546 and parameters: {'min_samples_split': 0.042674818877569416}. Best is trial 2 with value: 0.6294973544973546.\u001b[0m\n",
      "\u001b[32m[I 2023-09-05 21:20:49,501]\u001b[0m Trial 23 finished with value: 0.6294973544973546 and parameters: {'min_samples_split': 0.11548015857012771}. Best is trial 2 with value: 0.6294973544973546.\u001b[0m\n",
      "\u001b[32m[I 2023-09-05 21:20:49,526]\u001b[0m Trial 24 finished with value: 0.6294973544973546 and parameters: {'min_samples_split': 0.034719500865431074}. Best is trial 2 with value: 0.6294973544973546.\u001b[0m\n",
      "\u001b[32m[I 2023-09-05 21:20:49,553]\u001b[0m Trial 25 finished with value: 0.6294973544973546 and parameters: {'min_samples_split': 0.0022024584390380186}. Best is trial 2 with value: 0.6294973544973546.\u001b[0m\n",
      "\u001b[32m[I 2023-09-05 21:20:49,579]\u001b[0m Trial 26 finished with value: 0.6294973544973546 and parameters: {'min_samples_split': 0.08998310806828784}. Best is trial 2 with value: 0.6294973544973546.\u001b[0m\n",
      "\u001b[32m[I 2023-09-05 21:20:49,605]\u001b[0m Trial 27 finished with value: 0.6294973544973546 and parameters: {'min_samples_split': 0.04260867058121368}. Best is trial 2 with value: 0.6294973544973546.\u001b[0m\n",
      "\u001b[32m[I 2023-09-05 21:20:49,630]\u001b[0m Trial 28 finished with value: 0.6294973544973546 and parameters: {'min_samples_split': 0.08357597895124999}. Best is trial 2 with value: 0.6294973544973546.\u001b[0m\n",
      "\u001b[32m[I 2023-09-05 21:20:49,656]\u001b[0m Trial 29 finished with value: 0.6096560846560847 and parameters: {'min_samples_split': 0.2176163564132968}. Best is trial 2 with value: 0.6294973544973546.\u001b[0m\n",
      "E\n",
      "======================================================================\n",
      "ERROR: test_resultados (__main__.ExperimentoTest)\n",
      "----------------------------------------------------------------------\n",
      "Traceback (most recent call last):\n",
      "  File \"/home/willian/Machine-Learning/ap-de-maquina-cefetmg-avaliacao-master/tests.py\", line 190, in test_resultados\n",
      "    exp.calcula_resultados()\n",
      "  File \"/home/willian/Machine-Learning/ap-de-maquina-cefetmg-avaliacao-master/avaliacao.py\", line 58, in calcula_resultados\n",
      "    best_method = self.ClasseObjetivoOtimizacao.arr_evaluated_methods[study.best_trial.number]\n",
      "AttributeError: type object 'OtimizacaoObjetivoArvoreDecisao' has no attribute 'arr_evaluated_methods'\n",
      "\n",
      "----------------------------------------------------------------------\n",
      "Ran 1 test in 1.019s\n",
      "\n",
      "FAILED (errors=1)\n"
     ]
    }
   ],
   "source": [
    "!python3 -m tests ExperimentoTest.test_resultados"
   ]
  },
  {
   "cell_type": "markdown",
   "metadata": {},
   "source": [
    "**Atividade 6 - propriedade (atributo calculado) macro_f1_avg:** Usando os resultados no teste (atributo resultados) calcule o macro f1 médio."
   ]
  },
  {
   "cell_type": "code",
   "execution_count": null,
   "metadata": {
    "scrolled": false
   },
   "outputs": [],
   "source": [
    "!python3 -m tests ExperimentoTest.test_macro_f1_avg"
   ]
  },
  {
   "cell_type": "markdown",
   "metadata": {},
   "source": [
    "## Análise dos parametros"
   ]
  },
  {
   "cell_type": "markdown",
   "metadata": {},
   "source": [
    "Nesta parte você irá ver uma representação tabular e grafica que o auxiliará para analise de parametros. A representação grafica é por meio do hiplot. "
   ]
  },
  {
   "cell_type": "code",
   "execution_count": null,
   "metadata": {},
   "outputs": [],
   "source": [
    "import hiplot as hip \n",
    "from sklearn.ensemble import RandomForestClassifier\n",
    "import optuna\n",
    "\n",
    "from avaliacao import Experimento, OtimizacaoObjetivoRandomForest, Experimento\n",
    "from resultado import Resultado,Fold\n",
    "from metodo import ScikitLearnAprendizadoDeMaquina\n",
    "from tests import Dados\n",
    "\n",
    "\n",
    "#gera o fold e p experimento\n",
    "folds = Fold.gerar_k_folds(Dados.df_dados,val_k=5,col_classe=\"realClass\",\n",
    "                            num_repeticoes=1,seed=1,\n",
    "                            num_folds_validacao=3,num_repeticoes_validacao=2)\n",
    "\n",
    "clf_dtree = RandomForestClassifier(random_state=1)\n",
    "ml_method = ScikitLearnAprendizadoDeMaquina(clf_dtree)\n",
    "exp = Experimento(folds,ml_method, OtimizacaoObjetivoRandomForest, num_trials=10,\n",
    "                    sampler=optuna.samplers.TPESampler(seed=1, n_startup_trials=3))\n",
    "exp.calcula_resultados()"
   ]
  },
  {
   "cell_type": "markdown",
   "metadata": {},
   "source": [
    "Forma tabular via dataframe:"
   ]
  },
  {
   "cell_type": "code",
   "execution_count": null,
   "metadata": {},
   "outputs": [],
   "source": [
    "studdy_fold_0 = exp.studies_per_fold[0]\n",
    "studdy_fold_0.trials_dataframe().sort_values(\"value\",ascending=False)"
   ]
  },
  {
   "cell_type": "code",
   "execution_count": null,
   "metadata": {},
   "outputs": [],
   "source": [
    "#gera grafico da variacao de parametros (apenas fold 0)\n",
    "trials_fold_0 = exp.studies_per_fold[0].trials\n",
    "data = [{**trial.params, 'loss': trial.value} for trial in trials_fold_0]\n",
    "#data = [{'dropout':0.1, 'lr': 0.001, 'loss': 10.0, 'optimizer': 'SGD'}, {'dropout':0.15, 'lr': 0.01, 'loss': 3.5, 'optimizer': 'Adam'}, {'dropout':0.3, 'lr': 0.1, 'loss': 4.5, 'optimizer': 'Adam'}]\n",
    "hip.Experiment.from_iterable(data).display(force_full_width=True)"
   ]
  },
  {
   "cell_type": "markdown",
   "metadata": {},
   "source": [
    "Você analisou só um fold. Pode-se analisar diversos folds e, principalmente, ver se os melhores parametros de um fold é muito parecido ou não que o outro. Para a prática, fizemos com poucas tentativas. O ideal também é fazemos tentativas. Pelo menos centenas , porém, caso esteja muito dificil de encontrar parametros com bons resultados - ou a quantidade de parametros seja muito grande - seria interessante milhares. Sobre a quantidade de folds, geralmente usa-se muito 10 folds. \n",
    "\n",
    "A quantidade de tentativas e folds é um dos motivos que o tempo de execução e obtenção dos resultados de um método é muito demorada (podendo, as vezes, demorar dias/semanas). Por isso também, é muito importante salvar o modelo criado."
   ]
  }
 ],
 "metadata": {
  "kernelspec": {
   "display_name": "Python 3 (ipykernel)",
   "language": "python",
   "name": "python3"
  },
  "language_info": {
   "codemirror_mode": {
    "name": "ipython",
    "version": 3
   },
   "file_extension": ".py",
   "mimetype": "text/x-python",
   "name": "python",
   "nbconvert_exporter": "python",
   "pygments_lexer": "ipython3",
   "version": "3.10.12"
  }
 },
 "nbformat": 4,
 "nbformat_minor": 2
}
