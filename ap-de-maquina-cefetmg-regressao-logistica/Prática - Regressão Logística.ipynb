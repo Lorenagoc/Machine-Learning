{
 "cells": [
  {
   "cell_type": "markdown",
   "metadata": {},
   "source": [
    "## Notação matemática usada na prática"
   ]
  },
  {
   "cell_type": "markdown",
   "metadata": {},
   "source": [
    "Adotamos o padrão matemático para definir as variáveis a seguir. Nesse padrão, todas as variáveis que representam matrizes estão em maiúsculas, vetores em negrito e minúscula e, valores numéricos, como variáveis minusculas. Logo após, mapeamos cada variável matemática com uma respectiva variável em Python."
   ]
  },
  {
   "cell_type": "markdown",
   "metadata": {},
   "source": [
    "- $m$: quantidade de instancias\n",
    "- $f$: quantidade de atributos\n",
    "- $X$: Matriz de instâncias representadas pelo seus atributos dimensão $(m,f)$\n",
    "- $\\pmb{y}$: Vetor de tamanho $m$ representando a classe real de cada instância\n",
    "- $\\pmb{\\hat{y}}$: Vetor de predições que, para cada instancia, possui o valor predito para ela. Caso seja uma classificação binária, este valor será 0 ou 1\n",
    "- $\\pmb{w}$: vetor de pesos para ponderar os atributos (também chamado de parâmetros), tamanho $f$\n",
    "- $w_j$: $j$-ésimo valor do vetor $\\pmb{w}$ que pondera $j$-ésimo atributo da matriz $X$\n",
    "- $b$: Valor de viés da regressão logística (do inglês, bias term)\n",
    "- $\\pmb{z}$: vetor de tamanho $m$ representado o resultado da função z, para cada instancia $m$. \n",
    "- $z_i$: Representa o resultado da função z para a instancia $i$. \n",
    "- $\\pmb{a}$: Vetor de ativações de tamanho $m$ calculada por meio do vetor $z$\n",
    "- $a_i$: Valor de ativação da instancia $i$\n",
    "- $\\pmb{z^d}$: Derivada $\\frac{\\partial J}{\\partial z_i}$ para cada instância $i$ do modelo. Possui o mesmo tamanho que  $\\pmb{z}$\n",
    "- $\\pmb{w^d}$ Derivada $\\frac{\\partial J}{\\partial w_j}$ para cada peso $j$ do modelo, possui o mesmo tamanho de $\\pmb{w}$\n",
    "- $b^d$ Derivada $\\frac{\\partial J}{\\partial b}$ "
   ]
  },
  {
   "cell_type": "markdown",
   "metadata": {},
   "source": [
    "## Implementação das classes FuncaoAtivacao e RegressaoLogistica"
   ]
  },
  {
   "cell_type": "markdown",
   "metadata": {},
   "source": [
    "**Atividade 1: Função de ativação**: Iniciamente, você deverá criar a função de ativação e a derivada $\\frac{\\partial J}{\\partial w_j}$ quando se usa essa função. Para isso, você deverá criar uma instancia da classe `FuncaoAtivação` representando a função sigmoid. Para criar esse objeto, você deverá passar dois parametros: sua função de ativação, representada pelo parâmetro `funcao`, e a função que calcula o vetor gradiente $\\pmb{z^d}$, representada pelo parâmetro `dz_funcao`. Essa derivada é passada na função de ativação pois será diferente dependendo de qual função de ativação será usada.\n",
    "\n",
    "O atributo `funcao`, irá esperar um parametro  `z`, representando o vetor $\\pmb{z}$ e, o atributo `dz_funcao`, irá esperar como parametro `a`, `z` e `y` representando os vetores $\\pmb{a}$, $\\pmb{z}$ e $\\pmb{y}$. Os pâmetros `a`, `z` e `y` podem ser listas ou números reais, por isso use a biblioteca numpy para fazer as operações matemáticas ao invés das funções do pacote `math` durante toda a prática (ex. [np.exp](https://docs.scipy.org/doc/numpy/reference/generated/numpy.exp.html), [np.log](https://docs.scipy.org/doc/numpy/reference/generated/numpy.log.html)). Essa biblioteca trabalha com listas e vetores da mesma forma além de usar vetorização.\n",
    "\n",
    "\n",
    "<!--\n",
    "A palavra **função** está sendo usada em dois contextos aqui: você criará três **instancias da classe** FuncaoAtivacao, cada uma, passando como parametro uma função (e sua derivada). Por exemplo, **uma das instancias da da classe FuncaoAtivação** será a sigmoid em que se criará **um objeto de nome \"sigmoid\"** com dois parametros: (1) a **função de transformação sigmoid** e, outro, **a função do cálculo** da derivada $\\frac{\\partial J}{\\partial w_j}$ baseada na função de tranformação sigmoid. \n",
    "-->\n",
    "\n",
    "Para implementar as funções e passá-las como parâmetro, você pode criar uma função anônima por meio da [função lambda](https://docs.python.org/2/tutorial/controlflow.html#lambda-expressions).  Veja abaixo um exemplo de usar funções como parametros. "
   ]
  },
  {
   "cell_type": "code",
   "execution_count": 1,
   "metadata": {},
   "outputs": [
    {
     "name": "stdout",
     "output_type": "stream",
     "text": [
      "7\n",
      "..... Minha linda interface de dar oi ------\n",
      "Hi Alice! How are you?\n",
      ".....\n",
      "..... Minha linda interface de dar oi ------\n",
      "Oi Alice! Como vai?\n",
      ".....\n"
     ]
    }
   ],
   "source": [
    "#criação de uma funcao de soma\n",
    "soma = lambda x,y:x+y\n",
    "result = soma(3,4)\n",
    "print(result)\n",
    "\n",
    "#Exemplo mais bonitinho :)\n",
    "#Cada função retorna o oi em um determinado idioma\n",
    "#a função lambda recebe como parametro o nome da pessoa\n",
    "#e retorna uma string com a forma de dar oi nesse idioma\n",
    "oi_pt = lambda str_pessoa:f\"Oi {str_pessoa}! Como vai?\"\n",
    "oi_en = lambda str_pessoa:f\"Hi {str_pessoa}! How are you?\"\n",
    "\n",
    "def da_oi_para(funcao_de_dar_oi,str_pessoa):\n",
    "    print(\"..... Minha linda interface de dar oi ------\")\n",
    "    str_oi = funcao_de_dar_oi(str_pessoa)\n",
    "    print(str_oi)\n",
    "    print(\".....\")\n",
    "    \n",
    "#essa funcao é passada como parametro na funcao da_oi_para\n",
    "da_oi_para(oi_en,\"Alice\")\n",
    "da_oi_para(oi_pt,\"Alice\")\n",
    "\n",
    "\n",
    "     "
   ]
  },
  {
   "cell_type": "markdown",
   "metadata": {},
   "source": [
    "Faça o teste abaixo da função sigmoide e da sua derivada:"
   ]
  },
  {
   "cell_type": "code",
   "execution_count": 2,
   "metadata": {},
   "outputs": [
    {
     "name": "stdout",
     "output_type": "stream",
     "text": [
      ".\r\n",
      "----------------------------------------------------------------------\r\n",
      "Ran 1 test in 0.000s\r\n",
      "\r\n",
      "OK\r\n"
     ]
    }
   ],
   "source": [
    "!python3 -m regressao_logistica_test TestFuncaoAtivacao.test_sigmoid"
   ]
  },
  {
   "cell_type": "code",
   "execution_count": 3,
   "metadata": {},
   "outputs": [
    {
     "name": "stdout",
     "output_type": "stream",
     "text": [
      ".\r\n",
      "----------------------------------------------------------------------\r\n",
      "Ran 1 test in 0.000s\r\n",
      "\r\n",
      "OK\r\n"
     ]
    }
   ],
   "source": [
    "!python3 -m regressao_logistica_test TestFuncaoAtivacao.test_sigmoid_dz"
   ]
  },
  {
   "cell_type": "markdown",
   "metadata": {},
   "source": [
    "**Atividade 2 - implementação do método `z` da classe `RegressaoLogistica`**: Essa classe possui os seguintes atributos:\n",
    "\n",
    "- `arr_w`: vetor de pesos $\\pmb{w}$\n",
    "- `b`: Valor de viés da regressão logística\n",
    "- `func_ativacao`: função de ativação a ser usada. Esse atributo é uma função Python\n",
    "- `dz_func`: função derivada a ser usada de acordo com a função de ativação. Esse atributo também é uma função Python\n",
    "- `int_max_it`: Número de iterações (épocas) a rodar a regressão logística\n",
    "- `mat_x`: Matriz $X$ de atributos por instâncias\n",
    "- `arr_y`: Vetor de classes reais $\\pmb{y}$\n",
    "- `arr_z`: vetor de resultados $\\pmb{z}$ \n",
    "- `arr_a`: vetor de ativações $\\pmb{a}$\n",
    "- `gradiente`: Instancia da classe `Gradiente` que possui os atributos `arr_dz`, `arr_dw` e `db` representando, respectivamente, $\\pmb{z^d}$, $\\pmb{w^d}$ e $b^d$. \n",
    "\n",
    "Você deverá, por meio do vetor de pesos `arr_w`, valor `b` (ambos atributos da classe) e a matriz de atributos `mat_x` (passado como parâmetro) implementar o método `z` que retornará o vetor de resultados $\\pmb{z}$. Use o [método dot](https://docs.scipy.org/doc/numpy/reference/generated/numpy.matrix.dot.html) e o [atributo T](https://docs.scipy.org/doc/numpy-1.15.0/reference/generated/numpy.ndarray.T.html) dos arranjos numpy."
   ]
  },
  {
   "cell_type": "code",
   "execution_count": 4,
   "metadata": {},
   "outputs": [
    {
     "name": "stdout",
     "output_type": "stream",
     "text": [
      "(4,)\n",
      "(3, 4)\n",
      ".\n",
      "----------------------------------------------------------------------\n",
      "Ran 1 test in 0.002s\n",
      "\n",
      "OK\n"
     ]
    }
   ],
   "source": [
    "!python3 -m regressao_logistica_test TestRegressaoLogistica.test_z"
   ]
  },
  {
   "cell_type": "markdown",
   "metadata": {},
   "source": [
    "**Atividade 3 - Forward propagation:** Implemente o método  `forward_propagation`. Nele, você irá usar a matriz $X$, representada por `mat_x`, o vetor de pesos $\\pmb{w}$, representado pelo atributo `arr_w` para calcular os vetores $\\pmb{z}$ e $\\pmb{a}$ por meio do método `z` e da função de ativação, armazenada no atributo `func_ativacao`. Verifique nesse método se o `arr_w` está definido, caso não esteja, você deverá inicializá-lo com zero em todas as posições (use a função [np.zeros](https://docs.scipy.org/doc/numpy/reference/generated/numpy.zeros.html)). Veja o tamanho de w para isso"
   ]
  },
  {
   "cell_type": "code",
   "execution_count": 5,
   "metadata": {},
   "outputs": [
    {
     "name": "stdout",
     "output_type": "stream",
     "text": [
      "ARR_A: [0.67699586 0.61538376 0.77556401]\r\n",
      ".\r\n",
      "----------------------------------------------------------------------\r\n",
      "Ran 1 test in 0.002s\r\n",
      "\r\n",
      "OK\r\n"
     ]
    }
   ],
   "source": [
    "!python3 -m regressao_logistica_test TestRegressaoLogistica.test_forward_propagation"
   ]
  },
  {
   "cell_type": "markdown",
   "metadata": {},
   "source": [
    "**Atividade 4 - Backward propagation**: Você deverá implementar a função que calcula os gradientes conforme especificado no método"
   ]
  },
  {
   "cell_type": "code",
   "execution_count": 6,
   "metadata": {},
   "outputs": [
    {
     "name": "stdout",
     "output_type": "stream",
     "text": [
      "ARR_A: [0.67699586 0.61538376 0.77556401]\r\n",
      "DZ(0) - teste:-0.323004143761477\r\n",
      "DZ(1) - teste:0.6153837563911821\r\n",
      "DZ(2) - teste:-0.2244359857309266\r\n",
      ".\r\n",
      "----------------------------------------------------------------------\r\n",
      "Ran 1 test in 0.001s\r\n",
      "\r\n",
      "OK\r\n"
     ]
    }
   ],
   "source": [
    "!python3 -m regressao_logistica_test TestRegressaoLogistica.test_backward_propagation"
   ]
  },
  {
   "cell_type": "markdown",
   "metadata": {},
   "source": [
    "**Atividade 5 - Calcule a loss function**: Implemente no método `loss_function` a função de perda por meio da entropia cruzada, usando os atributos `arr_a` e `arr_y`"
   ]
  },
  {
   "cell_type": "code",
   "execution_count": 7,
   "metadata": {},
   "outputs": [
    {
     "name": "stdout",
     "output_type": "stream",
     "text": [
      "0.9740531025496358\r\n",
      ".\r\n",
      "----------------------------------------------------------------------\r\n",
      "Ran 1 test in 0.000s\r\n",
      "\r\n",
      "OK\r\n"
     ]
    }
   ],
   "source": [
    "!python3 -m regressao_logistica_test TestRegressaoLogistica.test_loss_function"
   ]
  },
  {
   "cell_type": "markdown",
   "metadata": {},
   "source": [
    "**Atividade 6 - Atualizar pesos**: Atualize os pesos `arr_w` e `b` por meio do gradiente e do parâmetro `learning_rate` "
   ]
  },
  {
   "cell_type": "code",
   "execution_count": 8,
   "metadata": {},
   "outputs": [
    {
     "name": "stdout",
     "output_type": "stream",
     "text": [
      ".\r\n",
      "----------------------------------------------------------------------\r\n",
      "Ran 1 test in 0.000s\r\n",
      "\r\n",
      "OK\r\n"
     ]
    }
   ],
   "source": [
    "!python3 -m regressao_logistica_test TestRegressaoLogistica.test_atualiza_pesos"
   ]
  },
  {
   "cell_type": "markdown",
   "metadata": {},
   "source": [
    "**Atividade 7 - método `fit`**: Cria o modelo de regressão logistica por meio de `int_max_it` épocas\n",
    "        imprime, a cada 10 épocas, a loss function obtida"
   ]
  },
  {
   "cell_type": "code",
   "execution_count": 9,
   "metadata": {},
   "outputs": [
    {
     "name": "stdout",
     "output_type": "stream",
     "text": [
      "ARR_A: [0.67699586 0.61538376 0.77556401]\n",
      "0.7799213641588739\n",
      "Iteração: 0 Loss: 0.7799213641588739\n",
      "ARR_A: [0.66762474 0.60519138 0.76770138]\n",
      "0.7650664126864092\n",
      "ARR_A: [0.65840247 0.59517701 0.75993895]\n",
      "0.7509815329200205\n",
      "ARR_A: [0.64934139 0.58535081 0.75229299]\n",
      "0.7376313334226747\n",
      "ARR_A: [0.64045219 0.57572133 0.74477828]\n",
      "0.7249805400446196\n",
      "ARR_A: [0.63174402 0.56629553 0.73740812]\n",
      "0.7129942267971434\n",
      "ARR_A: [0.62322449 0.5570789  0.73019425]\n",
      "0.7016380191278092\n",
      "ARR_A: [0.6148998  0.54807556 0.72314696]\n",
      "0.6908782694707476\n",
      "ARR_A: [0.60677475 0.53928834 0.71627505]\n",
      "0.6806822056184094\n",
      "ARR_A: [0.59885292 0.5307189  0.70958591]\n",
      "0.6710180530082116\n",
      "ARR_A: [0.59113669 0.52236783 0.70308559]\n",
      "0.6618551324404068\n",
      "Iteração: 10 Loss: 0.6618551324404068\n",
      "ARR_A: [0.58362739 0.5142348  0.69677887]\n",
      "0.6531639350494541\n",
      "ARR_A: [0.57632539 0.5063186  0.69066936]\n",
      "0.6449161765513033\n",
      "ARR_A: [0.56923019 0.49861728 0.68475955]\n",
      "0.6370848328968189\n",
      "ARR_A: [0.56234051 0.49112826 0.67905095]\n",
      "0.6296441594917658\n",
      "ARR_A: [0.55565439 0.48384837 0.67354412]\n",
      "0.6225696961110713\n",
      "ARR_A: [0.5491693  0.47677399 0.66823884]\n",
      "0.61583825955355\n",
      "ARR_A: [0.54288218 0.46990108 0.66313412]\n",
      "0.6094279259657885\n",
      "ARR_A: [0.53678956 0.46322529 0.65822833]\n",
      "0.6033180046217413\n",
      "ARR_A: [0.53088757 0.456742   0.65351926]\n",
      "0.5974890047874221\n",
      "ARR_A: [0.52517208 0.45044637 0.64900422]\n",
      "0.591922597135838\n",
      "Iteração: 20 Loss: 0.591922597135838\n",
      "ARR_A: [0.51963869 0.44433344 0.64468006]\n",
      "0.5866015710122848\n",
      "ARR_A: [0.51428282 0.4383981  0.6405433 ]\n",
      "0.5815097886891883\n",
      "ARR_A: [0.50909977 0.43263519 0.63659013]\n",
      "0.5766321375963246\n",
      "ARR_A: [0.50408469 0.42703952 0.6328165 ]\n",
      "0.5719544813689601\n",
      "ARR_A: [0.49923271 0.42160591 0.62921817]\n",
      "0.5674636104247076\n",
      "ARR_A: [0.49453891 0.41632916 0.62579072]\n",
      "0.5631471926604896\n",
      "ARR_A: [0.48999836 0.41120417 0.62252963]\n",
      "0.5589937247541551\n",
      "ARR_A: [0.48560615 0.40622586 0.61943029]\n",
      "0.5549924844607804\n",
      "ARR_A: [0.48135743 0.40138927 0.61648803]\n",
      "0.5511334842109857\n",
      "ARR_A: [0.47724739 0.3966895  0.61369818]\n",
      "0.5474074262469677\n",
      "Iteração: 30 Loss: 0.5474074262469677\n",
      "ARR_A: [0.47327129 0.39212178 0.61105603]\n",
      "0.5438056594705466\n",
      "ARR_A: [0.46942448 0.38768144 0.60855691]\n",
      "0.5403201381253906\n",
      "ARR_A: [0.46570241 0.38336393 0.60619621]\n",
      "0.5369433823917918\n",
      "ARR_A: [0.46210063 0.37916484 0.60396932]\n",
      "0.5336684409359744\n",
      "ARR_A: [0.45861479 0.37507987 0.60187174]\n",
      "0.530488855426032\n",
      "ARR_A: [0.45524067 0.37110487 0.59989902]\n",
      "0.5273986270023688\n",
      "ARR_A: [0.45197415 0.36723581 0.59804679]\n",
      "0.5243921846712079\n",
      "ARR_A: [0.44881124 0.3634688  0.5963108 ]\n",
      "0.5214643555745886\n",
      "ARR_A: [0.44574809 0.35980006 0.59468687]\n",
      "0.5186103370787298\n",
      "ARR_A: [0.44278093 0.35622598 0.59317092]\n",
      "0.5158256706140624\n",
      "Iteração: 40 Loss: 0.5158256706140624\n",
      "ARR_A: [0.43990614 0.35274304 0.59175899]\n",
      "0.5131062171941988\n",
      "ARR_A: [0.43712023 0.34934788 0.59044723]\n",
      "0.5104481345371353\n",
      "ARR_A: [0.4344198  0.34603725 0.58923186]\n",
      "0.5078478557097276\n",
      "ARR_A: [0.43180159 0.34280801 0.58810927]\n",
      "0.5053020692156106\n",
      "ARR_A: [0.42926245 0.33965716 0.5870759 ]\n",
      "0.5028077004469713\n",
      "ARR_A: [0.42679935 0.3365818  0.58612833]\n",
      "0.5003618944217095\n",
      "ARR_A: [0.42440935 0.33357916 0.58526325]\n",
      "0.49796199972932387\n",
      "ARR_A: [0.42208965 0.33064657 0.58447745]\n",
      "0.4956055536111834\n",
      "ARR_A: [0.41983753 0.32778145 0.58376782]\n",
      "0.49329026810355137\n",
      "ARR_A: [0.41765039 0.32498134 0.58313136]\n",
      "0.49101401717470167\n",
      "Iteração: 50 Loss: 0.49101401717470167\n",
      "ARR_A: [0.41552571 0.32224389 0.58256517]\n",
      "0.4887748247906149\n",
      "ARR_A: [0.41346108 0.31956681 0.58206645]\n",
      "0.4865708538469942\n",
      "ARR_A: [0.41145419 0.31694794 0.5816325 ]\n",
      "0.4844003959086254\n",
      "ARR_A: [0.40950281 0.31438517 0.58126071]\n",
      "0.48226186170039037\n",
      "ARR_A: [0.40760479 0.31187651 0.58094856]\n",
      "0.4801537722974736\n",
      "ARR_A: [0.40575808 0.30942003 0.58069363]\n",
      "0.4780747509654595\n",
      "ARR_A: [0.40396071 0.30701388 0.58049358]\n",
      "0.4760235156040801\n",
      "ARR_A: [0.40221077 0.3046563  0.58034615]\n",
      "0.4739988717513202\n",
      "ARR_A: [0.40050643 0.30234559 0.58024917]\n",
      "0.4719997061074062\n",
      "ARR_A: [0.39884596 0.30008012 0.58020055]\n",
      "0.4700249805408981\n",
      "Iteração: 60 Loss: 0.4700249805408981\n",
      "ARR_A: [0.39722768 0.29785833 0.58019828]\n",
      "0.46807372654166035\n",
      "ARR_A: [0.39564996 0.29567872 0.58024041]\n",
      "0.46614504008789953\n",
      "ARR_A: [0.39411126 0.29353985 0.58032508]\n",
      "0.4642380768967458\n",
      "ARR_A: [0.39261009 0.29144035 0.58045048]\n",
      "0.46235204802999624\n",
      "ARR_A: [0.39114502 0.28937889 0.58061489]\n",
      "0.4604862158286564\n",
      "ARR_A: [0.38971469 0.28735421 0.58081663]\n",
      "0.4586398901518078\n",
      "ARR_A: [0.38831778 0.28536509 0.58105411]\n",
      "0.45681242489709223\n",
      "ARR_A: [0.38695303 0.28341037 0.58132577]\n",
      "0.45500321478176114\n",
      "ARR_A: [0.38561922 0.28148892 0.58163014]\n",
      "0.45321169236477105\n",
      "ARR_A: [0.38431519 0.27959967 0.58196578]\n",
      "0.45143732529184816\n",
      "Iteração: 70 Loss: 0.45143732529184816\n",
      "ARR_A: [0.38303983 0.2777416  0.58233132]\n",
      "0.4496796137467774\n",
      "ARR_A: [0.38179206 0.2759137  0.58272543]\n",
      "0.44793808809341257\n",
      "ARR_A: [0.38057085 0.27411504 0.58314685]\n",
      "0.44621230669405937\n",
      "ARR_A: [0.37937522 0.2723447  0.58359436]\n",
      "0.4445018538909549\n",
      "ARR_A: [0.37820421 0.2706018  0.58406676]\n",
      "0.44280633813855946\n",
      "ARR_A: [0.37705692 0.26888551 0.58456294]\n",
      "0.4411253902752983\n",
      "ARR_A: [0.37593247 0.26719502 0.5850818 ]\n",
      "0.43945866192424576\n",
      "ARR_A: [0.37483002 0.26552955 0.58562229]\n",
      "0.43780582401303664\n",
      "ARR_A: [0.37374877 0.26388837 0.58618342]\n",
      "0.43616656540401627\n",
      "ARR_A: [0.37268794 0.26227075 0.58676421]\n",
      "0.43454059162632747\n",
      "Iteração: 80 Loss: 0.43454059162632747\n",
      "ARR_A: [0.37164679 0.26067601 0.58736373]\n",
      "0.43292762370225396\n",
      "ARR_A: [0.3706246  0.25910348 0.58798109]\n",
      "0.43132739706072004\n",
      "ARR_A: [0.36962069 0.25755255 0.58861542]\n",
      "0.4297396605313886\n",
      "ARR_A: [0.3686344  0.25602259 0.58926591]\n",
      "0.4281641754132905\n",
      "ARR_A: [0.36766509 0.25451301 0.58993175]\n",
      "0.4266007146123791\n",
      "ARR_A: [0.36671217 0.25302327 0.59061218]\n",
      "0.4250490618428304\n",
      "ARR_A: [0.36577505 0.25155281 0.59130647]\n",
      "0.42350901088729725\n",
      "ARR_A: [0.36485316 0.25010111 0.59201392]\n",
      "0.4219803649116917\n",
      "ARR_A: [0.36394597 0.24866767 0.59273383]\n",
      "0.42046293583040617\n",
      "ARR_A: [0.36305296 0.24725201 0.59346557]\n",
      "0.41895654371818597\n",
      "Iteração: 90 Loss: 0.41895654371818597\n",
      "ARR_A: [0.36217364 0.24585367 0.59420851]\n",
      "0.4174610162651626\n",
      "ARR_A: [0.36130752 0.2444722  0.59496204]\n",
      "0.41597618827181254\n",
      "ARR_A: [0.36045415 0.24310716 0.59572559]\n",
      "0.4145019011808569\n",
      "ARR_A: [0.35961309 0.24175815 0.5964986 ]\n",
      "0.41303800264333496\n",
      "ARR_A: [0.35878391 0.24042476 0.59728053]\n",
      "0.41158434611630684\n",
      "ARR_A: [0.3579662  0.23910662 0.59807088]\n",
      "0.41014079048981583\n",
      "ARR_A: [0.35715959 0.23780334 0.59886915]\n",
      "0.4087071997409339\n",
      "ARR_A: [0.35636367 0.23651458 0.59967487]\n",
      "0.4072834426128684\n",
      "ARR_A: [0.35557811 0.23523999 0.60048758]\n",
      "0.4058693923172685\n",
      ".\n",
      "----------------------------------------------------------------------\n",
      "Ran 1 test in 0.034s\n",
      "\n",
      "OK\n"
     ]
    }
   ],
   "source": [
    "!python3 -m regressao_logistica_test TestRegressaoLogistica.test_fit"
   ]
  },
  {
   "cell_type": "markdown",
   "metadata": {},
   "source": [
    "**Atividade 8 - método predict**: usando as instancias `mat_x`, representando a matriz $X$ das instâncias que queremos prever, calcula-se o forward_propagation do modelo para, logo após, retornar o vetor de predições $\\hat{y}$. Para cada instancia $i$, esse vetor retornará 0 se $\\pmb{a_i}<0.5$ ou 1, caso contrário.\n",
    "Dica: você pode fazer isso de forma bem simples usando vetorização. Isso é mais eficiente computacionalmente. Exemplo:"
   ]
  },
  {
   "cell_type": "code",
   "execution_count": 10,
   "metadata": {},
   "outputs": [
    {
     "name": "stdout",
     "output_type": "stream",
     "text": [
      "[False False  True  True False]\n",
      "[0 0 1 1 0]\n"
     ]
    }
   ],
   "source": [
    "import numpy as np\n",
    "meu_querido_vetor = np.array([3,2,8,9,2])\n",
    "#a linha abaixo retorna true ou false, dependendo do valor\n",
    "print(meu_querido_vetor>4)\n",
    "#Se multiplicamos um número por um vetor numpy de true e false \n",
    "#. é o mesmo de multiplicarmos o número por 1 ou 0, respectivamente\n",
    "print(1*(meu_querido_vetor>4))\n"
   ]
  },
  {
   "cell_type": "code",
   "execution_count": 11,
   "metadata": {},
   "outputs": [
    {
     "name": "stdout",
     "output_type": "stream",
     "text": [
      "ARR_A: [0.67040116 0.37989357 0.77556401 0.77556401]\r\n",
      ".\r\n",
      "----------------------------------------------------------------------\r\n",
      "Ran 1 test in 0.001s\r\n",
      "\r\n",
      "OK\r\n"
     ]
    }
   ],
   "source": [
    "!python3 -m regressao_logistica_test TestRegressaoLogistica.test_predict"
   ]
  },
  {
   "cell_type": "markdown",
   "metadata": {},
   "source": [
    "## Meu primeiro método de Aprendizado de Máquina: Vamos ver funcionando 😍 "
   ]
  },
  {
   "cell_type": "code",
   "execution_count": 2,
   "metadata": {},
   "outputs": [],
   "source": [
    "import pandas as pd\n",
    "import sklearn.datasets\n",
    "import matplotlib.pyplot as plt\n",
    "from sklearn.metrics import accuracy_score\n",
    "from regressao_logistica import *\n",
    "from util import *"
   ]
  },
  {
   "cell_type": "markdown",
   "metadata": {},
   "source": [
    "Use o dataset abaixo. Mande rodar e plote também o XX. Veja que ele irá plotar uma divisão linear dos resultados. Ainda não é a melhor solução para os dados que temos abaixo. Alguns problemas, que dizemos que são **linearmente separáveis**, usar uma função linear já é o suficiente."
   ]
  },
  {
   "cell_type": "code",
   "execution_count": 3,
   "metadata": {},
   "outputs": [
    {
     "data": {
      "text/plain": [
       "<matplotlib.collections.PathCollection at 0x7fb2f5762b70>"
      ]
     },
     "execution_count": 3,
     "metadata": {},
     "output_type": "execute_result"
    },
    {
     "data": {
      "image/png": "[encoded data removed]",
      "text/plain": [
       "<Figure size 432x288 with 1 Axes>"
      ]
     },
     "metadata": {
      "needs_background": "light"
     },
     "output_type": "display_data"
    }
   ],
   "source": [
    "#Dados a serem usados\n",
    "mat_x, arr_y = sklearn.datasets.make_moons(400, noise=0.05)\n",
    "plt.scatter(mat_x[:,0], mat_x[:,1], s=40, c=arr_y, cmap=plt.cm.Spectral)"
   ]
  },
  {
   "cell_type": "code",
   "execution_count": 4,
   "metadata": {},
   "outputs": [],
   "source": [
    "# Crie o modelo de regressão logistica para esses dados\n",
    "obj_regressao_logistica = RegressaoLogistica(funcao,dz_funcao)\n"
   ]
  },
  {
   "cell_type": "code",
   "execution_count": 5,
   "metadata": {},
   "outputs": [
    {
     "name": "stdout",
     "output_type": "stream",
     "text": [
      "Iteração: 0 Loss: 0.6931471805599452\n",
      "Iteração: 10 Loss: 0.3748955523780847\n",
      "Iteração: 20 Loss: 0.32618926004668475\n",
      "Iteração: 30 Loss: 0.30357991007852303\n",
      "Iteração: 40 Loss: 0.28968423017927136\n",
      "Iteração: 50 Loss: 0.2801856711125502\n",
      "Iteração: 60 Loss: 0.2733394811055309\n",
      "Iteração: 70 Loss: 0.2682374247199292\n",
      "Iteração: 80 Loss: 0.26434007899932\n",
      "Iteração: 90 Loss: 0.26130322823881225\n"
     ]
    }
   ],
   "source": [
    "#crie o modelo usando mat_x e arr_y\n",
    "obj_regressao_logistica.mat_x=mat_x\n",
    "obj_regressao_logistica.arr_y=arr_y\n",
    "obj_regressao_logistica.fit(mat_x,arr_y,1.1)"
   ]
  },
  {
   "cell_type": "code",
   "execution_count": 6,
   "metadata": {},
   "outputs": [
    {
     "name": "stdout",
     "output_type": "stream",
     "text": [
      "Acurácia: 0.875\n"
     ]
    },
    {
     "data": {
      "image/png": "[encoded data removed]",
      "text/plain": [
       "<Figure size 576x432 with 1 Axes>"
      ]
     },
     "metadata": {
      "needs_background": "light"
     },
     "output_type": "display_data"
    }
   ],
   "source": [
    "# Apresente aqui a superfície de decisão desses dados\n",
    "plot_decision_boundary(obj_regressao_logistica,mat_x,arr_y)\n",
    "\n",
    "# Plotando a acurácia para ter uma métrica númerica direta sobre o desempenho\n",
    "print(f\"Acurácia: {accuracy_score(obj_regressao_logistica.predict(mat_x), arr_y)}\")\n"
   ]
  },
  {
   "cell_type": "markdown",
   "metadata": {},
   "source": [
    "Descreva o impacto ao alterar a taxa de aprendizado e o número de épocas (`learning_rate` e `num_iteracoes`, respectivamente) algum desses parâmetros podem ocasionar overfitting/underfitting? Quando?"
   ]
  },
  {
   "cell_type": "markdown",
   "metadata": {},
   "source": []
  }
 ],
 "metadata": {
  "kernelspec": {
   "display_name": "Python 3",
   "language": "python",
   "name": "python3"
  },
  "language_info": {
   "codemirror_mode": {
    "name": "ipython",
    "version": 3
   },
   "file_extension": ".py",
   "mimetype": "text/x-python",
   "name": "python",
   "nbconvert_exporter": "python",
   "pygments_lexer": "ipython3",
   "version": "3.7.1"
  }
 },
 "nbformat": 4,
 "nbformat_minor": 2
}
